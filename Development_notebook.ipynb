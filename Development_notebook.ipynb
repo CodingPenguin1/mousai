{
 "cells": [
  {
   "cell_type": "code",
   "execution_count": 1,
   "metadata": {
    "scrolled": true
   },
   "outputs": [
    {
     "name": "stdout",
     "output_type": "stream",
     "text": [
      "Automatic pdb calling has been turned OFF\n"
     ]
    },
    {
     "ename": "SyntaxError",
     "evalue": "no binding for nonlocal 'params' found (har_bal.py, line 164)",
     "output_type": "error",
     "traceback": [
      "\u001b[0;36m  File \u001b[0;32m\"/Users/jslater/Documents/python-dev/mousai/mousai/har_bal.py\"\u001b[0;36m, line \u001b[0;32m164\u001b[0m\n\u001b[0;31m    nonlocal params # global? Arghhh\u001b[0m\n\u001b[0m    ^\u001b[0m\n\u001b[0;31mSyntaxError\u001b[0m\u001b[0;31m:\u001b[0m no binding for nonlocal 'params' found\n"
     ]
    }
   ],
   "source": [
    "%pdb off\n",
    "%load_ext autoreload\n",
    "%autoreload 2\n",
    "%matplotlib inline\n",
    "import matplotlib.pyplot as plt\n",
    "import scipy as sp\n",
    "import scipy.fftpack as fftp\n",
    "from scipy import pi,sin,cos\n",
    "import mousai as ms"
   ]
  },
  {
   "cell_type": "code",
   "execution_count": 3,
   "metadata": {
    "scrolled": true
   },
   "outputs": [
    {
     "name": "stdout",
     "output_type": "stream",
     "text": [
      "Help on function hb_so in module mousai.har_bal:\n",
      "\n",
      "hb_so(sdfunc, x0, omega, method='newton_krylov', num_harmonics=1, **kwargs)\n",
      "    Harmonic balance solver for second order ODEs.\n",
      "    \n",
      "    Obtains the solution of a second order differential equation under the\n",
      "    presumption that the solution is harmonic.\n",
      "    \n",
      "    Returns t (time), x (displacement), v (velocity), and a (acceleration)\n",
      "    response of a second order linear ordinary differential\n",
      "    equation defined by\n",
      "    :math:`\\ddot{\\mathbf{x}}=f(\\mathbf{x},\\mathbf{v},\\omega)`.\n",
      "    \n",
      "    Parameters\n",
      "    ----------\n",
      "    sdfunc: str\n",
      "        name of function that returns **column vector** second derivative\n",
      "        given omega and\n",
      "        \\*\\*kwargs\n",
      "    \n",
      "        :math:`\\ddot{\\mathbf{x}}=f(\\mathbf{x},\\mathbf{v},\\omega)`\n",
      "    omega:  float\n",
      "        assumed fundamental response frequency in radians per second.\n",
      "    num_harmonics: int\n",
      "        number of harmonics to presume. Constant term is always presumed.\n",
      "    x0: ndarray\n",
      "        n x m array where n is the number of equations and m is the number of\n",
      "        values representing the repeating solution.\n",
      "        It is required that :math:`m = 1 + 2 num_{harmonics}`.\n",
      "    method: str\n",
      "        Name of optimization method to be used.\n",
      "    other: any\n",
      "        Other keywoard arguments available to nonlinear solvers.\n",
      "    \n",
      "    Returns\n",
      "    -------\n",
      "    t, x, v, a : ndarrays\n",
      "        time, displacement history (time steps along columns), velocity and\n",
      "        acceleration\n",
      "    amps : float array\n",
      "        amplitudes of displacement in column vector format.\n",
      "    \n",
      "    Examples\n",
      "    --------\n",
      "    >>> import mousai as ms\n",
      "    >>> x = ms.hb_so('duff_osc', 1, .9)\n",
      "    \n",
      "    Notes\n",
      "    ------\n",
      "    Calls a linear algebra function from\n",
      "    `scipy.optimize.nonlin\n",
      "    <https://docs.scipy.org/doc/scipy/reference/optimize.nonlin.html>`_ with\n",
      "    newton_krylov as the default.\n",
      "    \n",
      "    Algorithm:\n",
      "        1. calls `hb_so_err` with x as the variable to solve for.\n",
      "        2. `hb_so_err` uses a Fourier representation of x to obtain velocities\n",
      "           (after an inverse fft) then calls `sdfunc` to determine\n",
      "           accelerations.\n",
      "        3. Accelerations are also obtained using a Fourier representation of x\n",
      "        4. Error in the accelerations are the functional error used by the\n",
      "           nonlinear algebraic solver (default `newton_krylov`) to be minimized\n",
      "           by the solver.\n",
      "    \n",
      "    Options can be passed in by \\*\\*kwargs.\n",
      "\n"
     ]
    }
   ],
   "source": [
    "help(ms.hb_so)\n"
   ]
  },
  {
   "cell_type": "code",
   "execution_count": 66,
   "metadata": {},
   "outputs": [
    {
     "name": "stderr",
     "output_type": "stream",
     "text": [
      "[autoreload of mousai.har_bal failed: Traceback (most recent call last):\n",
      "  File \"/Users/jslater/anaconda/lib/python3.6/site-packages/IPython/extensions/autoreload.py\", line 246, in check\n",
      "    superreload(m, reload, self.old_objects)\n",
      "  File \"/Users/jslater/anaconda/lib/python3.6/site-packages/IPython/extensions/autoreload.py\", line 369, in superreload\n",
      "    module = reload(module)\n",
      "  File \"/Users/jslater/anaconda/lib/python3.6/imp.py\", line 314, in reload\n",
      "    return importlib.reload(module)\n",
      "  File \"/Users/jslater/anaconda/lib/python3.6/importlib/__init__.py\", line 166, in reload\n",
      "    _bootstrap._exec(spec, module)\n",
      "  File \"<frozen importlib._bootstrap>\", line 608, in _exec\n",
      "  File \"<frozen importlib._bootstrap_external>\", line 674, in exec_module\n",
      "  File \"<frozen importlib._bootstrap_external>\", line 781, in get_code\n",
      "  File \"<frozen importlib._bootstrap_external>\", line 741, in source_to_code\n",
      "  File \"<frozen importlib._bootstrap>\", line 205, in _call_with_frames_removed\n",
      "  File \"/Users/jslater/Documents/python-dev/mousai/mousai/har_bal.py\", line 92\n",
      "    x = globals()[method](hb_so_err, x0, kw = **kwargs)\n",
      "                                               ^\n",
      "SyntaxError: invalid syntax\n",
      "]\n"
     ]
    },
    {
     "ename": "ValueError",
     "evalue": "Unknown parameter kw",
     "output_type": "error",
     "traceback": [
      "\u001b[0;31m---------------------------------------------------------------------------\u001b[0m",
      "\u001b[0;31mValueError\u001b[0m                                Traceback (most recent call last)",
      "\u001b[0;32m<ipython-input-66-1b1c8f192f57>\u001b[0m in \u001b[0;36m<module>\u001b[0;34m()\u001b[0m\n\u001b[0;32m----> 1\u001b[0;31m \u001b[0mx\u001b[0m \u001b[0;34m=\u001b[0m \u001b[0mms\u001b[0m\u001b[0;34m.\u001b[0m\u001b[0mhb_so\u001b[0m\u001b[0;34m(\u001b[0m\u001b[0;34m'duff_osc'\u001b[0m\u001b[0;34m,\u001b[0m \u001b[0msp\u001b[0m\u001b[0;34m.\u001b[0m\u001b[0marray\u001b[0m\u001b[0;34m(\u001b[0m\u001b[0;34m[\u001b[0m\u001b[0;34m[\u001b[0m\u001b[0;36m0\u001b[0m\u001b[0;34m,\u001b[0m\u001b[0;36m1\u001b[0m\u001b[0;34m,\u001b[0m\u001b[0;34m-\u001b[0m\u001b[0;36m1\u001b[0m\u001b[0;34m]\u001b[0m\u001b[0;34m]\u001b[0m\u001b[0;34m)\u001b[0m\u001b[0;34m,\u001b[0m \u001b[0;36m.9\u001b[0m\u001b[0;34m)\u001b[0m\u001b[0;34m\u001b[0m\u001b[0m\n\u001b[0m",
      "\u001b[0;32m/Users/jslater/Documents/python-dev/mousai/mousai/har_bal.py\u001b[0m in \u001b[0;36mhb_so\u001b[0;34m(sdfunc, x0, omega, method, num_harmonics, **kwargs)\u001b[0m\n\u001b[1;32m     90\u001b[0m     \u001b[0mkwargs\u001b[0m\u001b[0;34m[\u001b[0m\u001b[0;34m'n_har'\u001b[0m\u001b[0;34m]\u001b[0m \u001b[0;34m=\u001b[0m \u001b[0mnum_harmonics\u001b[0m\u001b[0;34m\u001b[0m\u001b[0m\n\u001b[1;32m     91\u001b[0m     \u001b[0;31m# print(kwargs)\u001b[0m\u001b[0;34m\u001b[0m\u001b[0;34m\u001b[0m\u001b[0m\n\u001b[0;32m---> 92\u001b[0;31m     \u001b[0mx\u001b[0m \u001b[0;34m=\u001b[0m \u001b[0mglobals\u001b[0m\u001b[0;34m(\u001b[0m\u001b[0;34m)\u001b[0m\u001b[0;34m[\u001b[0m\u001b[0mmethod\u001b[0m\u001b[0;34m]\u001b[0m\u001b[0;34m(\u001b[0m\u001b[0mhb_so_err\u001b[0m\u001b[0;34m,\u001b[0m \u001b[0mx0\u001b[0m\u001b[0;34m,\u001b[0m \u001b[0mkw\u001b[0m \u001b[0;34m=\u001b[0m \u001b[0;34m**\u001b[0m\u001b[0mkwargs\u001b[0m\u001b[0;34m)\u001b[0m\u001b[0;34m\u001b[0m\u001b[0m\n\u001b[0m\u001b[1;32m     93\u001b[0m     \u001b[0mv\u001b[0m \u001b[0;34m=\u001b[0m \u001b[0mharmonic_deriv\u001b[0m\u001b[0;34m(\u001b[0m\u001b[0momega\u001b[0m\u001b[0;34m,\u001b[0m \u001b[0mx\u001b[0m\u001b[0;34m)\u001b[0m\u001b[0;34m\u001b[0m\u001b[0m\n\u001b[1;32m     94\u001b[0m     \u001b[0ma\u001b[0m \u001b[0;34m=\u001b[0m \u001b[0mharmonic_deriv\u001b[0m\u001b[0;34m(\u001b[0m\u001b[0momega\u001b[0m\u001b[0;34m,\u001b[0m \u001b[0mv\u001b[0m\u001b[0;34m)\u001b[0m\u001b[0;34m\u001b[0m\u001b[0m\n",
      "\u001b[0;32m/Users/jslater/anaconda/lib/python3.6/site-packages/scipy/optimize/nonlin.py\u001b[0m in \u001b[0;36mnewton_krylov\u001b[0;34m(F, xin, iter, rdiff, method, inner_maxiter, inner_M, outer_k, verbose, maxiter, f_tol, f_rtol, x_tol, x_rtol, tol_norm, line_search, callback, **kw)\u001b[0m\n",
      "\u001b[0;32m/Users/jslater/anaconda/lib/python3.6/site-packages/scipy/optimize/nonlin.py\u001b[0m in \u001b[0;36m__init__\u001b[0;34m(self, rdiff, method, inner_maxiter, inner_M, outer_k, **kw)\u001b[0m\n\u001b[1;32m   1433\u001b[0m         \u001b[0;32mfor\u001b[0m \u001b[0mkey\u001b[0m\u001b[0;34m,\u001b[0m \u001b[0mvalue\u001b[0m \u001b[0;32min\u001b[0m \u001b[0mkw\u001b[0m\u001b[0;34m.\u001b[0m\u001b[0mitems\u001b[0m\u001b[0;34m(\u001b[0m\u001b[0;34m)\u001b[0m\u001b[0;34m:\u001b[0m\u001b[0;34m\u001b[0m\u001b[0m\n\u001b[1;32m   1434\u001b[0m             \u001b[0;32mif\u001b[0m \u001b[0;32mnot\u001b[0m \u001b[0mkey\u001b[0m\u001b[0;34m.\u001b[0m\u001b[0mstartswith\u001b[0m\u001b[0;34m(\u001b[0m\u001b[0;34m'inner_'\u001b[0m\u001b[0;34m)\u001b[0m\u001b[0;34m:\u001b[0m\u001b[0;34m\u001b[0m\u001b[0m\n\u001b[0;32m-> 1435\u001b[0;31m                 \u001b[0;32mraise\u001b[0m \u001b[0mValueError\u001b[0m\u001b[0;34m(\u001b[0m\u001b[0;34m\"Unknown parameter %s\"\u001b[0m \u001b[0;34m%\u001b[0m \u001b[0mkey\u001b[0m\u001b[0;34m)\u001b[0m\u001b[0;34m\u001b[0m\u001b[0m\n\u001b[0m\u001b[1;32m   1436\u001b[0m             \u001b[0mself\u001b[0m\u001b[0;34m.\u001b[0m\u001b[0mmethod_kw\u001b[0m\u001b[0;34m[\u001b[0m\u001b[0mkey\u001b[0m\u001b[0;34m[\u001b[0m\u001b[0;36m6\u001b[0m\u001b[0;34m:\u001b[0m\u001b[0;34m]\u001b[0m\u001b[0;34m]\u001b[0m \u001b[0;34m=\u001b[0m \u001b[0mvalue\u001b[0m\u001b[0;34m\u001b[0m\u001b[0m\n\u001b[1;32m   1437\u001b[0m \u001b[0;34m\u001b[0m\u001b[0m\n",
      "\u001b[0;31mValueError\u001b[0m: Unknown parameter kw"
     ]
    }
   ],
   "source": [
    "x = ms.hb_so('duff_osc', sp.array([[0,1,-1]]), .9)"
   ]
  },
  {
   "cell_type": "code",
   "execution_count": 62,
   "metadata": {
    "scrolled": false
   },
   "outputs": [
    {
     "name": "stdout",
     "output_type": "stream",
     "text": [
      "Help on function newton_krylov in module scipy.optimize.nonlin:\n",
      "\n",
      "newton_krylov(F, xin, iter=None, rdiff=None, method='lgmres', inner_maxiter=20, inner_M=None, outer_k=10, verbose=False, maxiter=None, f_tol=None, f_rtol=None, x_tol=None, x_rtol=None, tol_norm=None, line_search='armijo', callback=None, **kw)\n",
      "    Find a root of a function, using Krylov approximation for inverse Jacobian.\n",
      "    \n",
      "    This method is suitable for solving large-scale problems.\n",
      "    \n",
      "    Parameters\n",
      "    ----------\n",
      "    F : function(x) -> f\n",
      "        Function whose root to find; should take and return an array-like\n",
      "        object.\n",
      "    x0 : array_like\n",
      "        Initial guess for the solution\n",
      "    rdiff : float, optional\n",
      "        Relative step size to use in numerical differentiation.\n",
      "    method : {'lgmres', 'gmres', 'bicgstab', 'cgs', 'minres'} or function\n",
      "        Krylov method to use to approximate the Jacobian.\n",
      "        Can be a string, or a function implementing the same interface as\n",
      "        the iterative solvers in `scipy.sparse.linalg`.\n",
      "    \n",
      "        The default is `scipy.sparse.linalg.lgmres`.\n",
      "    inner_M : LinearOperator or InverseJacobian\n",
      "        Preconditioner for the inner Krylov iteration.\n",
      "        Note that you can use also inverse Jacobians as (adaptive)\n",
      "        preconditioners. For example,\n",
      "    \n",
      "        >>> from scipy.optimize.nonlin import BroydenFirst, KrylovJacobian\n",
      "        >>> from scipy.optimize.nonlin import InverseJacobian\n",
      "        >>> jac = BroydenFirst()\n",
      "        >>> kjac = KrylovJacobian(inner_M=InverseJacobian(jac))\n",
      "    \n",
      "        If the preconditioner has a method named 'update', it will be called\n",
      "        as ``update(x, f)`` after each nonlinear step, with ``x`` giving\n",
      "        the current point, and ``f`` the current function value.\n",
      "    inner_tol, inner_maxiter, ...\n",
      "        Parameters to pass on to the \\\"inner\\\" Krylov solver.\n",
      "        See `scipy.sparse.linalg.gmres` for details.\n",
      "    outer_k : int, optional\n",
      "        Size of the subspace kept across LGMRES nonlinear iterations.\n",
      "        See `scipy.sparse.linalg.lgmres` for details.\n",
      "    iter : int, optional\n",
      "        Number of iterations to make. If omitted (default), make as many\n",
      "        as required to meet tolerances.\n",
      "    verbose : bool, optional\n",
      "        Print status to stdout on every iteration.\n",
      "    maxiter : int, optional\n",
      "        Maximum number of iterations to make. If more are needed to\n",
      "        meet convergence, `NoConvergence` is raised.\n",
      "    f_tol : float, optional\n",
      "        Absolute tolerance (in max-norm) for the residual.\n",
      "        If omitted, default is 6e-6.\n",
      "    f_rtol : float, optional\n",
      "        Relative tolerance for the residual. If omitted, not used.\n",
      "    x_tol : float, optional\n",
      "        Absolute minimum step size, as determined from the Jacobian\n",
      "        approximation. If the step size is smaller than this, optimization\n",
      "        is terminated as successful. If omitted, not used.\n",
      "    x_rtol : float, optional\n",
      "        Relative minimum step size. If omitted, not used.\n",
      "    tol_norm : function(vector) -> scalar, optional\n",
      "        Norm to use in convergence check. Default is the maximum norm.\n",
      "    line_search : {None, 'armijo' (default), 'wolfe'}, optional\n",
      "        Which type of a line search to use to determine the step size in the\n",
      "        direction given by the Jacobian approximation. Defaults to 'armijo'.\n",
      "    callback : function, optional\n",
      "        Optional callback function. It is called on every iteration as\n",
      "        ``callback(x, f)`` where `x` is the current solution and `f`\n",
      "        the corresponding residual.\n",
      "    \n",
      "    Returns\n",
      "    -------\n",
      "    sol : ndarray\n",
      "        An array (of similar array type as `x0`) containing the final solution.\n",
      "    \n",
      "    Raises\n",
      "    ------\n",
      "    NoConvergence\n",
      "        When a solution was not found.\n",
      "    \n",
      "    See Also\n",
      "    --------\n",
      "    scipy.sparse.linalg.gmres\n",
      "    scipy.sparse.linalg.lgmres\n",
      "    \n",
      "    Notes\n",
      "    -----\n",
      "    This function implements a Newton-Krylov solver. The basic idea is\n",
      "    to compute the inverse of the Jacobian with an iterative Krylov\n",
      "    method. These methods require only evaluating the Jacobian-vector\n",
      "    products, which are conveniently approximated by a finite difference:\n",
      "    \n",
      "    .. math:: J v \\approx (f(x + \\omega*v/|v|) - f(x)) / \\omega\n",
      "    \n",
      "    Due to the use of iterative matrix inverses, these methods can\n",
      "    deal with large nonlinear problems.\n",
      "    \n",
      "    Scipy's `scipy.sparse.linalg` module offers a selection of Krylov\n",
      "    solvers to choose from. The default here is `lgmres`, which is a\n",
      "    variant of restarted GMRES iteration that reuses some of the\n",
      "    information obtained in the previous Newton steps to invert\n",
      "    Jacobians in subsequent steps.\n",
      "    \n",
      "    For a review on Newton-Krylov methods, see for example [1]_,\n",
      "    and for the LGMRES sparse inverse method, see [2]_.\n",
      "    \n",
      "    References\n",
      "    ----------\n",
      "    .. [1] D.A. Knoll and D.E. Keyes, J. Comp. Phys. 193, 357 (2004).\n",
      "           :doi:`10.1016/j.jcp.2003.08.010`\n",
      "    .. [2] A.H. Baker and E.R. Jessup and T. Manteuffel,\n",
      "           SIAM J. Matrix Anal. Appl. 26, 962 (2005).\n",
      "           :doi:`10.1137/S0895479803422014`\n",
      "\n"
     ]
    }
   ],
   "source": [
    "from scipy.optimize import newton_krylov\n",
    "help(newton_krylov)\n"
   ]
  },
  {
   "cell_type": "code",
   "execution_count": 74,
   "metadata": {
    "collapsed": true
   },
   "outputs": [],
   "source": [
    "def my_quad(x, const = 2):\n",
    "    return x**2-const"
   ]
  },
  {
   "cell_type": "code",
   "execution_count": 75,
   "metadata": {},
   "outputs": [
    {
     "data": {
      "text/plain": [
       "1.0625"
      ]
     },
     "execution_count": 75,
     "metadata": {},
     "output_type": "execute_result"
    }
   ],
   "source": [
    "my_quad(1.75)"
   ]
  },
  {
   "cell_type": "code",
   "execution_count": null,
   "metadata": {
    "collapsed": true
   },
   "outputs": [],
   "source": []
  },
  {
   "cell_type": "code",
   "execution_count": 77,
   "metadata": {
    "collapsed": true
   },
   "outputs": [],
   "source": [
    "kw = {'const':3}"
   ]
  },
  {
   "cell_type": "code",
   "execution_count": 80,
   "metadata": {},
   "outputs": [
    {
     "ename": "ValueError",
     "evalue": "Unknown parameter const",
     "output_type": "error",
     "traceback": [
      "\u001b[0;31m---------------------------------------------------------------------------\u001b[0m",
      "\u001b[0;31mValueError\u001b[0m                                Traceback (most recent call last)",
      "\u001b[0;32m<ipython-input-80-64753efeb742>\u001b[0m in \u001b[0;36m<module>\u001b[0;34m()\u001b[0m\n\u001b[0;32m----> 1\u001b[0;31m \u001b[0mx\u001b[0m \u001b[0;34m=\u001b[0m \u001b[0mnewton_krylov\u001b[0m\u001b[0;34m(\u001b[0m\u001b[0mmy_quad\u001b[0m\u001b[0;34m,\u001b[0m\u001b[0;36m1\u001b[0m\u001b[0;34m,\u001b[0m \u001b[0mconst\u001b[0m \u001b[0;34m=\u001b[0m \u001b[0;36m3\u001b[0m\u001b[0;34m)\u001b[0m\u001b[0;34m\u001b[0m\u001b[0m\n\u001b[0m\u001b[1;32m      2\u001b[0m \u001b[0mx\u001b[0m\u001b[0;34m\u001b[0m\u001b[0m\n",
      "\u001b[0;32m/Users/jslater/anaconda/lib/python3.6/site-packages/scipy/optimize/nonlin.py\u001b[0m in \u001b[0;36mnewton_krylov\u001b[0;34m(F, xin, iter, rdiff, method, inner_maxiter, inner_M, outer_k, verbose, maxiter, f_tol, f_rtol, x_tol, x_rtol, tol_norm, line_search, callback, **kw)\u001b[0m\n",
      "\u001b[0;32m/Users/jslater/anaconda/lib/python3.6/site-packages/scipy/optimize/nonlin.py\u001b[0m in \u001b[0;36m__init__\u001b[0;34m(self, rdiff, method, inner_maxiter, inner_M, outer_k, **kw)\u001b[0m\n\u001b[1;32m   1433\u001b[0m         \u001b[0;32mfor\u001b[0m \u001b[0mkey\u001b[0m\u001b[0;34m,\u001b[0m \u001b[0mvalue\u001b[0m \u001b[0;32min\u001b[0m \u001b[0mkw\u001b[0m\u001b[0;34m.\u001b[0m\u001b[0mitems\u001b[0m\u001b[0;34m(\u001b[0m\u001b[0;34m)\u001b[0m\u001b[0;34m:\u001b[0m\u001b[0;34m\u001b[0m\u001b[0m\n\u001b[1;32m   1434\u001b[0m             \u001b[0;32mif\u001b[0m \u001b[0;32mnot\u001b[0m \u001b[0mkey\u001b[0m\u001b[0;34m.\u001b[0m\u001b[0mstartswith\u001b[0m\u001b[0;34m(\u001b[0m\u001b[0;34m'inner_'\u001b[0m\u001b[0;34m)\u001b[0m\u001b[0;34m:\u001b[0m\u001b[0;34m\u001b[0m\u001b[0m\n\u001b[0;32m-> 1435\u001b[0;31m                 \u001b[0;32mraise\u001b[0m \u001b[0mValueError\u001b[0m\u001b[0;34m(\u001b[0m\u001b[0;34m\"Unknown parameter %s\"\u001b[0m \u001b[0;34m%\u001b[0m \u001b[0mkey\u001b[0m\u001b[0;34m)\u001b[0m\u001b[0;34m\u001b[0m\u001b[0m\n\u001b[0m\u001b[1;32m   1436\u001b[0m             \u001b[0mself\u001b[0m\u001b[0;34m.\u001b[0m\u001b[0mmethod_kw\u001b[0m\u001b[0;34m[\u001b[0m\u001b[0mkey\u001b[0m\u001b[0;34m[\u001b[0m\u001b[0;36m6\u001b[0m\u001b[0;34m:\u001b[0m\u001b[0;34m]\u001b[0m\u001b[0;34m]\u001b[0m \u001b[0;34m=\u001b[0m \u001b[0mvalue\u001b[0m\u001b[0;34m\u001b[0m\u001b[0m\n\u001b[1;32m   1437\u001b[0m \u001b[0;34m\u001b[0m\u001b[0m\n",
      "\u001b[0;31mValueError\u001b[0m: Unknown parameter const"
     ]
    }
   ],
   "source": [
    "x = newton_krylov(my_quad,1, const = 3)\n",
    "x"
   ]
  },
  {
   "cell_type": "code",
   "execution_count": 46,
   "metadata": {},
   "outputs": [
    {
     "data": {
      "text/plain": [
       "[<matplotlib.lines.Line2D at 0x1167adbe0>]"
      ]
     },
     "execution_count": 46,
     "metadata": {},
     "output_type": "execute_result"
    },
    {
     "data": {
      "image/png": "[encoded data removed]",
      "text/plain": [
       "<matplotlib.figure.Figure at 0x114427898>"
      ]
     },
     "metadata": {},
     "output_type": "display_data"
    }
   ],
   "source": [
    "plt.plot(x[0].T,x[1].T)"
   ]
  },
  {
   "cell_type": "code",
   "execution_count": 4,
   "metadata": {
    "scrolled": true
   },
   "outputs": [
    {
     "data": {
      "text/plain": [
       "1.2246467991473532e-16"
      ]
     },
     "execution_count": 4,
     "metadata": {},
     "output_type": "execute_result"
    }
   ],
   "source": [
    "sp.sin(pi)"
   ]
  },
  {
   "cell_type": "code",
   "execution_count": 5,
   "metadata": {
    "collapsed": true
   },
   "outputs": [],
   "source": [
    "a = sp.array([[sin(0),sin(2.*pi/3),sin(4.*(pi/3))],[cos(0),cos(2.*pi/3),cos(4.*(pi/3))]])"
   ]
  },
  {
   "cell_type": "code",
   "execution_count": 6,
   "metadata": {},
   "outputs": [
    {
     "data": {
      "text/plain": [
       "array([[ 0.       ,  0.8660254, -0.8660254],\n",
       "       [ 1.       , -0.5      , -0.5      ]])"
      ]
     },
     "execution_count": 6,
     "metadata": {},
     "output_type": "execute_result"
    }
   ],
   "source": [
    "a"
   ]
  },
  {
   "cell_type": "code",
   "execution_count": 7,
   "metadata": {},
   "outputs": [
    {
     "data": {
      "text/plain": [
       "array([[  4.44089210e-16 +0.00000000e+00j,\n",
       "         -2.22044605e-16 -1.50000000e+00j,\n",
       "         -2.22044605e-16 +1.50000000e+00j],\n",
       "       [ -2.22044605e-16 +0.00000000e+00j,\n",
       "          1.50000000e+00 -5.76888806e-16j,\n",
       "          1.50000000e+00 +5.76888806e-16j]])"
      ]
     },
     "execution_count": 7,
     "metadata": {},
     "output_type": "execute_result"
    }
   ],
   "source": [
    "b = fftp.fft(a)\n",
    "b"
   ]
  },
  {
   "cell_type": "code",
   "execution_count": 8,
   "metadata": {
    "collapsed": true
   },
   "outputs": [],
   "source": [
    "omega = sp.array([0,1j,-1j])"
   ]
  },
  {
   "cell_type": "code",
   "execution_count": 9,
   "metadata": {},
   "outputs": [
    {
     "data": {
      "text/plain": [
       "array([ 0.+0.j,  0.+1.j, -0.-1.j])"
      ]
     },
     "execution_count": 9,
     "metadata": {},
     "output_type": "execute_result"
    }
   ],
   "source": [
    "omega"
   ]
  },
  {
   "cell_type": "code",
   "execution_count": 10,
   "metadata": {},
   "outputs": [
    {
     "data": {
      "text/plain": [
       "array([  4.44089210e-16+0.j ,  -2.22044605e-16-1.5j,  -2.22044605e-16+1.5j])"
      ]
     },
     "execution_count": 10,
     "metadata": {},
     "output_type": "execute_result"
    }
   ],
   "source": [
    "b[0,:]"
   ]
  },
  {
   "cell_type": "code",
   "execution_count": 11,
   "metadata": {},
   "outputs": [
    {
     "data": {
      "text/plain": [
       "array([[  0.00000000e+00 +0.00000000e+00j,\n",
       "          1.50000000e+00 -2.22044605e-16j,\n",
       "          1.50000000e+00 +2.22044605e-16j],\n",
       "       [ -0.00000000e+00 +0.00000000e+00j,\n",
       "          5.76888806e-16 +1.50000000e+00j,\n",
       "          5.76888806e-16 -1.50000000e+00j]])"
      ]
     },
     "execution_count": 11,
     "metadata": {},
     "output_type": "execute_result"
    }
   ],
   "source": [
    "b*omega"
   ]
  },
  {
   "cell_type": "code",
   "execution_count": 12,
   "metadata": {
    "collapsed": true
   },
   "outputs": [],
   "source": [
    "c = fftp.ifft(b[0,:]*omega)"
   ]
  },
  {
   "cell_type": "code",
   "execution_count": 13,
   "metadata": {
    "collapsed": true
   },
   "outputs": [
    {
     "name": "stdout",
     "output_type": "stream",
     "text": [
      "Help on function fft in module scipy.fftpack.basic:\n",
      "\n",
      "fft(x, n=None, axis=-1, overwrite_x=False)\n",
      "    Return discrete Fourier transform of real or complex sequence.\n",
      "    \n",
      "    The returned complex array contains ``y(0), y(1),..., y(n-1)`` where\n",
      "    \n",
      "    ``y(j) = (x * exp(-2*pi*sqrt(-1)*j*np.arange(n)/n)).sum()``.\n",
      "    \n",
      "    Parameters\n",
      "    ----------\n",
      "    x : array_like\n",
      "        Array to Fourier transform.\n",
      "    n : int, optional\n",
      "        Length of the Fourier transform.  If ``n < x.shape[axis]``, `x` is\n",
      "        truncated.  If ``n > x.shape[axis]``, `x` is zero-padded. The\n",
      "        default results in ``n = x.shape[axis]``.\n",
      "    axis : int, optional\n",
      "        Axis along which the fft's are computed; the default is over the\n",
      "        last axis (i.e., ``axis=-1``).\n",
      "    overwrite_x : bool, optional\n",
      "        If True, the contents of `x` can be destroyed; the default is False.\n",
      "    \n",
      "    Returns\n",
      "    -------\n",
      "    z : complex ndarray\n",
      "        with the elements::\n",
      "    \n",
      "            [y(0),y(1),..,y(n/2),y(1-n/2),...,y(-1)]        if n is even\n",
      "            [y(0),y(1),..,y((n-1)/2),y(-(n-1)/2),...,y(-1)]  if n is odd\n",
      "    \n",
      "        where::\n",
      "    \n",
      "            y(j) = sum[k=0..n-1] x[k] * exp(-sqrt(-1)*j*k* 2*pi/n), j = 0..n-1\n",
      "    \n",
      "        Note that ``y(-j) = y(n-j).conjugate()``.\n",
      "    \n",
      "    See Also\n",
      "    --------\n",
      "    ifft : Inverse FFT\n",
      "    rfft : FFT of a real sequence\n",
      "    \n",
      "    Notes\n",
      "    -----\n",
      "    The packing of the result is \"standard\": If ``A = fft(a, n)``, then\n",
      "    ``A[0]`` contains the zero-frequency term, ``A[1:n/2]`` contains the\n",
      "    positive-frequency terms, and ``A[n/2:]`` contains the negative-frequency\n",
      "    terms, in order of decreasingly negative frequency. So for an 8-point\n",
      "    transform, the frequencies of the result are [0, 1, 2, 3, -4, -3, -2, -1].\n",
      "    To rearrange the fft output so that the zero-frequency component is\n",
      "    centered, like [-4, -3, -2, -1,  0,  1,  2,  3], use `fftshift`.\n",
      "    \n",
      "    For `n` even, ``A[n/2]`` contains the sum of the positive and\n",
      "    negative-frequency terms.  For `n` even and `x` real, ``A[n/2]`` will\n",
      "    always be real.\n",
      "    \n",
      "    Both single and double precision routines are implemented.  Half precision\n",
      "    inputs will be converted to single precision.  Non floating-point inputs\n",
      "    will be converted to double precision.  Long-double precision inputs are\n",
      "    not supported.\n",
      "    \n",
      "    This function is most efficient when `n` is a power of two, and least\n",
      "    efficient when `n` is prime.\n",
      "    \n",
      "    If the data type of `x` is real, a \"real FFT\" algorithm is automatically\n",
      "    used, which roughly halves the computation time.  To increase efficiency\n",
      "    a little further, use `rfft`, which does the same calculation, but only\n",
      "    outputs half of the symmetrical spectrum.  If the data is both real and\n",
      "    symmetrical, the `dct` can again double the efficiency, by generating\n",
      "    half of the spectrum from half of the signal.\n",
      "    \n",
      "    Examples\n",
      "    --------\n",
      "    >>> from scipy.fftpack import fft, ifft\n",
      "    >>> x = np.arange(5)\n",
      "    >>> np.allclose(fft(ifft(x)), x, atol=1e-15)  # within numerical accuracy.\n",
      "    True\n",
      "\n"
     ]
    }
   ],
   "source": [
    "help(sp.fftpack.fft)"
   ]
  },
  {
   "cell_type": "code",
   "execution_count": 14,
   "metadata": {},
   "outputs": [
    {
     "data": {
      "text/plain": [
       "array([[ 0.       ,  0.8660254, -0.8660254],\n",
       "       [ 1.       , -0.5      , -0.5      ]])"
      ]
     },
     "execution_count": 14,
     "metadata": {},
     "output_type": "execute_result"
    }
   ],
   "source": [
    "a"
   ]
  },
  {
   "cell_type": "code",
   "execution_count": 15,
   "metadata": {},
   "outputs": [
    {
     "data": {
      "text/plain": [
       "3"
      ]
     },
     "execution_count": 15,
     "metadata": {},
     "output_type": "execute_result"
    }
   ],
   "source": [
    "a.shape[1]"
   ]
  },
  {
   "cell_type": "code",
   "execution_count": 16,
   "metadata": {},
   "outputs": [
    {
     "data": {
      "text/plain": [
       "array([[ 0.       ],\n",
       "       [ 0.8660254],\n",
       "       [-0.8660254],\n",
       "       [ 1.       ],\n",
       "       [-0.5      ],\n",
       "       [-0.5      ]])"
      ]
     },
     "execution_count": 16,
     "metadata": {},
     "output_type": "execute_result"
    }
   ],
   "source": [
    "b = a.reshape([-1,1])\n",
    "b"
   ]
  },
  {
   "cell_type": "code",
   "execution_count": 17,
   "metadata": {},
   "outputs": [
    {
     "data": {
      "text/plain": [
       "array([[ 0.       ,  0.8660254, -0.8660254],\n",
       "       [ 1.       , -0.5      , -0.5      ]])"
      ]
     },
     "execution_count": 17,
     "metadata": {},
     "output_type": "execute_result"
    }
   ],
   "source": [
    "b.reshape([-1,3])"
   ]
  },
  {
   "cell_type": "code",
   "execution_count": 18,
   "metadata": {},
   "outputs": [
    {
     "ename": "NameError",
     "evalue": "name '_har_deriv' is not defined",
     "output_type": "error",
     "traceback": [
      "\u001b[0;31m---------------------------------------------------------------------------\u001b[0m",
      "\u001b[0;31mNameError\u001b[0m                                 Traceback (most recent call last)",
      "\u001b[0;32m<ipython-input-18-e08b31e1885d>\u001b[0m in \u001b[0;36m<module>\u001b[0;34m()\u001b[0m\n\u001b[0;32m----> 1\u001b[0;31m \u001b[0mv\u001b[0m \u001b[0;34m=\u001b[0m\u001b[0m_har_deriv\u001b[0m\u001b[0;34m(\u001b[0m\u001b[0;36m2\u001b[0m\u001b[0;34m*\u001b[0m\u001b[0mpi\u001b[0m\u001b[0;34m,\u001b[0m \u001b[0ma\u001b[0m\u001b[0;34m)\u001b[0m\u001b[0;34m\u001b[0m\u001b[0m\n\u001b[0m\u001b[1;32m      2\u001b[0m \u001b[0mv\u001b[0m\u001b[0;34m\u001b[0m\u001b[0m\n",
      "\u001b[0;31mNameError\u001b[0m: name '_har_deriv' is not defined"
     ]
    }
   ],
   "source": [
    "v =_har_deriv(2*pi, a)\n",
    "v"
   ]
  },
  {
   "cell_type": "code",
   "execution_count": null,
   "metadata": {
    "collapsed": true
   },
   "outputs": [],
   "source": [
    "bb = sp.append(a,v,axis=0)\n",
    "bb"
   ]
  },
  {
   "cell_type": "code",
   "execution_count": 19,
   "metadata": {},
   "outputs": [
    {
     "ename": "NameError",
     "evalue": "name '_har_deriv' is not defined",
     "output_type": "error",
     "traceback": [
      "\u001b[0;31m---------------------------------------------------------------------------\u001b[0m",
      "\u001b[0;31mNameError\u001b[0m                                 Traceback (most recent call last)",
      "\u001b[0;32m<ipython-input-19-a1aebcc7983e>\u001b[0m in \u001b[0;36m<module>\u001b[0;34m()\u001b[0m\n\u001b[0;32m----> 1\u001b[0;31m \u001b[0m_har_deriv\u001b[0m\u001b[0;34m(\u001b[0m\u001b[0;36m2\u001b[0m\u001b[0;34m*\u001b[0m\u001b[0mpi\u001b[0m\u001b[0;34m,\u001b[0m\u001b[0mbb\u001b[0m\u001b[0;34m)\u001b[0m\u001b[0;34m\u001b[0m\u001b[0m\n\u001b[0m",
      "\u001b[0;31mNameError\u001b[0m: name '_har_deriv' is not defined"
     ]
    }
   ],
   "source": [
    "_har_deriv(2*pi,bb)"
   ]
  },
  {
   "cell_type": "code",
   "execution_count": null,
   "metadata": {
    "collapsed": true
   },
   "outputs": [],
   "source": []
  },
  {
   "cell_type": "code",
   "execution_count": 20,
   "metadata": {
    "scrolled": true
   },
   "outputs": [
    {
     "ename": "NameError",
     "evalue": "name 't' is not defined",
     "output_type": "error",
     "traceback": [
      "\u001b[0;31m---------------------------------------------------------------------------\u001b[0m",
      "\u001b[0;31mNameError\u001b[0m                                 Traceback (most recent call last)",
      "\u001b[0;32m<ipython-input-20-2d43556f88ca>\u001b[0m in \u001b[0;36m<module>\u001b[0;34m()\u001b[0m\n\u001b[0;32m----> 1\u001b[0;31m \u001b[0mplt\u001b[0m\u001b[0;34m.\u001b[0m\u001b[0mplot\u001b[0m\u001b[0;34m(\u001b[0m\u001b[0mt\u001b[0m\u001b[0;34m,\u001b[0m\u001b[0ma\u001b[0m\u001b[0;34m.\u001b[0m\u001b[0mT\u001b[0m\u001b[0;34m,\u001b[0m\u001b[0mt\u001b[0m\u001b[0;34m,\u001b[0m\u001b[0mv\u001b[0m\u001b[0;34m.\u001b[0m\u001b[0mT\u001b[0m\u001b[0;34m)\u001b[0m\u001b[0;34m\u001b[0m\u001b[0m\n\u001b[0m",
      "\u001b[0;31mNameError\u001b[0m: name 't' is not defined"
     ]
    }
   ],
   "source": [
    "plt.plot(t,a.T,t,v.T)"
   ]
  },
  {
   "cell_type": "code",
   "execution_count": 21,
   "metadata": {},
   "outputs": [
    {
     "data": {
      "text/plain": [
       "array([ 0.  ,  0.02,  0.04,  0.06,  0.08])"
      ]
     },
     "execution_count": 21,
     "metadata": {},
     "output_type": "execute_result"
    }
   ],
   "source": [
    "t = sp.linspace(0,.1,6)\n",
    "t = t[0:-1]\n",
    "t"
   ]
  },
  {
   "cell_type": "code",
   "execution_count": 22,
   "metadata": {},
   "outputs": [
    {
     "ename": "NameError",
     "evalue": "name 'aa' is not defined",
     "output_type": "error",
     "traceback": [
      "\u001b[0;31m---------------------------------------------------------------------------\u001b[0m",
      "\u001b[0;31mNameError\u001b[0m                                 Traceback (most recent call last)",
      "\u001b[0;32m<ipython-input-22-d404401c8c64>\u001b[0m in \u001b[0;36m<module>\u001b[0;34m()\u001b[0m\n\u001b[0;32m----> 1\u001b[0;31m \u001b[0maa\u001b[0m\u001b[0;34m\u001b[0m\u001b[0m\n\u001b[0m",
      "\u001b[0;31mNameError\u001b[0m: name 'aa' is not defined"
     ]
    }
   ],
   "source": [
    "aa"
   ]
  },
  {
   "cell_type": "code",
   "execution_count": 23,
   "metadata": {},
   "outputs": [
    {
     "data": {
      "text/plain": [
       "array([[  0.        ,   0.19866933,   0.38941834,   0.56464247,\n",
       "          0.71735609],\n",
       "       [ 62.83185307,  61.57939922,  57.87196905,  51.85736609,  43.7753736 ]])"
      ]
     },
     "execution_count": 23,
     "metadata": {},
     "output_type": "execute_result"
    }
   ],
   "source": [
    "aa = sp.array([sin(10*t),2*pi*10*cos(10*t)])\n",
    "aa"
   ]
  },
  {
   "cell_type": "code",
   "execution_count": 25,
   "metadata": {},
   "outputs": [
    {
     "data": {
      "text/plain": [
       "array([[  0.        ,   0.19866933,   0.38941834,   0.56464247,\n",
       "          0.71735609],\n",
       "       [ 62.83185307,  61.57939922,  57.87196905,  51.85736609,  43.7753736 ]])"
      ]
     },
     "execution_count": 25,
     "metadata": {},
     "output_type": "execute_result"
    }
   ],
   "source": [
    "aa"
   ]
  },
  {
   "cell_type": "code",
   "execution_count": 26,
   "metadata": {},
   "outputs": [
    {
     "data": {
      "text/plain": [
       "7.146921588710594"
      ]
     },
     "execution_count": 26,
     "metadata": {},
     "output_type": "execute_result"
    }
   ],
   "source": [
    "62.8/8.787\n"
   ]
  },
  {
   "cell_type": "code",
   "execution_count": 27,
   "metadata": {
    "collapsed": true
   },
   "outputs": [],
   "source": [
    "def func(**kwargs):\n",
    "    print(kwargs)\n",
    "    print(kwargs['g'])"
   ]
  },
  {
   "cell_type": "code",
   "execution_count": 28,
   "metadata": {},
   "outputs": [
    {
     "name": "stdout",
     "output_type": "stream",
     "text": [
      "{'g': 1}\n",
      "1\n"
     ]
    }
   ],
   "source": [
    "func(g = 1)"
   ]
  },
  {
   "cell_type": "code",
   "execution_count": 29,
   "metadata": {},
   "outputs": [
    {
     "name": "stdout",
     "output_type": "stream",
     "text": [
      "[ 4.04674914  3.91158389  2.71791677  1.61756251]\n"
     ]
    },
    {
     "data": {
      "text/plain": [
       "array([ 1.,  2.,  3.,  4.])"
      ]
     },
     "execution_count": 29,
     "metadata": {},
     "output_type": "execute_result"
    }
   ],
   "source": [
    "import numpy as np\n",
    "def F(x):\n",
    "    return np.cos(x) + x[::-1] - [1, 2, 3, 4]\n",
    "import scipy.optimize\n",
    "x = scipy.optimize.broyden1(F, [1,1,1,1], f_tol=1e-14)\n",
    "print(x)\n",
    "np.cos(x) + x[::-1]\n"
   ]
  },
  {
   "cell_type": "code",
   "execution_count": 30,
   "metadata": {},
   "outputs": [
    {
     "data": {
      "text/plain": [
       "array([ 1.61756251,  2.71791677,  3.91158389,  4.04674914])"
      ]
     },
     "execution_count": 30,
     "metadata": {},
     "output_type": "execute_result"
    }
   ],
   "source": [
    "x[::-1]"
   ]
  },
  {
   "cell_type": "code",
   "execution_count": 31,
   "metadata": {},
   "outputs": [
    {
     "data": {
      "text/plain": [
       "-0.00060115645740976831"
      ]
     },
     "execution_count": 31,
     "metadata": {},
     "output_type": "execute_result"
    }
   ],
   "source": [
    "np.cos(4.0467)+1.617-1"
   ]
  },
  {
   "cell_type": "code",
   "execution_count": 32,
   "metadata": {},
   "outputs": [
    {
     "name": "stdout",
     "output_type": "stream",
     "text": [
      "0:  |F(x)| = 626.642; step 1; tol 0.000157679\n",
      "1:  |F(x)| = 234.794; step 1; tol 0.12635\n",
      "2:  |F(x)| = 114.961; step 1; tol 0.215759\n",
      "3:  |F(x)| = 24.1248; step 1; tol 0.0396341\n",
      "4:  |F(x)| = 1.53245; step 1; tol 0.00363151\n",
      "5:  |F(x)| = 0.118376; step 1; tol 0.0053703\n",
      "6:  |F(x)| = 0.00888316; step 1; tol 0.00506815\n",
      "7:  |F(x)| = 0.000125266; step 1; tol 0.000178966\n",
      "Residual: 5.8124e-06\n"
     ]
    },
    {
     "data": {
      "image/png": "[encoded data removed]",
      "text/plain": [
       "<matplotlib.figure.Figure at 0x10d1bf9e8>"
      ]
     },
     "metadata": {},
     "output_type": "display_data"
    }
   ],
   "source": [
    "import numpy as np\n",
    "from scipy.optimize import newton_krylov\n",
    "from numpy import cosh, zeros_like, mgrid, zeros\n",
    "\n",
    "# parameters\n",
    "nx, ny = 75, 75\n",
    "hx, hy = 1./(nx-1), 1./(ny-1)\n",
    "\n",
    "P_left, P_right = 0, 0\n",
    "P_top, P_bottom = 1, 0\n",
    "\n",
    "def residual(P):\n",
    "    d2x = zeros_like(P)\n",
    "    d2y = zeros_like(P)\n",
    "\n",
    "    d2x[1:-1] = (P[2:]   - 2*P[1:-1] + P[:-2]) / hx/hx\n",
    "    d2x[0]    = (P[1]    - 2*P[0]    + P_left)/hx/hx\n",
    "    d2x[-1]   = (P_right - 2*P[-1]   + P[-2])/hx/hx\n",
    "\n",
    "    d2y[:,1:-1] = (P[:,2:] - 2*P[:,1:-1] + P[:,:-2])/hy/hy\n",
    "    d2y[:,0]    = (P[:,1]  - 2*P[:,0]    + P_bottom)/hy/hy\n",
    "    d2y[:,-1]   = (P_top   - 2*P[:,-1]   + P[:,-2])/hy/hy\n",
    "\n",
    "    return d2x + d2y - 10*cosh(P).mean()**2\n",
    "\n",
    "# solve\n",
    "guess = zeros((nx, ny), float)\n",
    "sol = newton_krylov(residual, guess, method='lgmres', verbose=1)\n",
    "print('Residual: %g' % abs(residual(sol)).max())\n",
    "\n",
    "# visualize\n",
    "import matplotlib.pyplot as plt\n",
    "x, y = mgrid[0:1:(nx*1j), 0:1:(ny*1j)]\n",
    "plt.pcolor(x, y, sol)\n",
    "plt.colorbar()\n",
    "plt.show()"
   ]
  },
  {
   "cell_type": "code",
   "execution_count": 33,
   "metadata": {
    "collapsed": true
   },
   "outputs": [],
   "source": [
    "def F(x):\n",
    "    return np.cos(x) + x[::-1] - [1, 2, 3, 4]"
   ]
  },
  {
   "cell_type": "code",
   "execution_count": 41,
   "metadata": {
    "collapsed": true
   },
   "outputs": [],
   "source": [
    "a = 'broyden1'\n",
    "import scipy.optimize as spo "
   ]
  },
  {
   "cell_type": "code",
   "execution_count": 39,
   "metadata": {},
   "outputs": [
    {
     "data": {
      "text/plain": [
       "array([ 4.04674914,  3.91158389,  2.71791677,  1.61756251])"
      ]
     },
     "execution_count": 39,
     "metadata": {},
     "output_type": "execute_result"
    }
   ],
   "source": [
    "x = scipy.optimize.broyden1(F, [1,1,1,1], f_tol=1e-14)\n",
    "x"
   ]
  },
  {
   "cell_type": "code",
   "execution_count": 42,
   "metadata": {
    "scrolled": true
   },
   "outputs": [
    {
     "data": {
      "text/plain": [
       "array([ 4.04674914,  3.91158389,  2.71791677,  1.61756251])"
      ]
     },
     "execution_count": 42,
     "metadata": {},
     "output_type": "execute_result"
    }
   ],
   "source": [
    "a = 'broyden1'\n",
    "import scipy.optimize as spo \n",
    "x = eval('scipy.optimize.'+ a + '(F, [1,1,1,1], f_tol=1e-14)')\n",
    "x"
   ]
  },
  {
   "cell_type": "code",
   "execution_count": 43,
   "metadata": {},
   "outputs": [
    {
     "data": {
      "text/plain": [
       "array([ 4.04674914,  3.91158389,  2.71791677,  1.61756251])"
      ]
     },
     "execution_count": 43,
     "metadata": {},
     "output_type": "execute_result"
    }
   ],
   "source": [
    "a = 'newton_krylov'\n",
    "x = eval('scipy.optimize.'+ a + '(F, [1,1,1,1], f_tol=1e-14)')\n",
    "x"
   ]
  },
  {
   "cell_type": "code",
   "execution_count": 45,
   "metadata": {},
   "outputs": [
    {
     "data": {
      "text/plain": [
       "array([ 4.04674914,  3.91158389,  2.71791677,  1.61756251])"
      ]
     },
     "execution_count": 45,
     "metadata": {},
     "output_type": "execute_result"
    }
   ],
   "source": [
    "x = globals()[a](F, [1,1,1,1], f_tol=1e-14)\n",
    "x"
   ]
  },
  {
   "cell_type": "code",
   "execution_count": 81,
   "metadata": {
    "collapsed": true,
    "scrolled": false
   },
   "outputs": [],
   "source": [
    "#help(globals()[a])"
   ]
  },
  {
   "cell_type": "code",
   "execution_count": 83,
   "metadata": {},
   "outputs": [
    {
     "ename": "NameError",
     "evalue": "name 'scipy' is not defined",
     "output_type": "error",
     "traceback": [
      "\u001b[0;31m---------------------------------------------------------------------------\u001b[0m",
      "\u001b[0;31mNameError\u001b[0m                                 Traceback (most recent call last)",
      "\u001b[0;32m<ipython-input-83-1630177475ad>\u001b[0m in \u001b[0;36m<module>\u001b[0;34m()\u001b[0m\n\u001b[0;32m----> 1\u001b[0;31m \u001b[0mx\u001b[0m \u001b[0;34m=\u001b[0m \u001b[0mscipy\u001b[0m\u001b[0;34m.\u001b[0m\u001b[0moptimize\u001b[0m\u001b[0;34m.\u001b[0m\u001b[0mbroyden1\u001b[0m\u001b[0;34m(\u001b[0m\u001b[0mF\u001b[0m\u001b[0;34m,\u001b[0m \u001b[0;34m[\u001b[0m\u001b[0;36m1\u001b[0m\u001b[0;34m,\u001b[0m\u001b[0;36m1\u001b[0m\u001b[0;34m,\u001b[0m\u001b[0;36m1\u001b[0m\u001b[0;34m,\u001b[0m\u001b[0;36m1\u001b[0m\u001b[0;34m]\u001b[0m\u001b[0;34m,\u001b[0m \u001b[0mf_tol\u001b[0m\u001b[0;34m=\u001b[0m\u001b[0;36m1e-14\u001b[0m\u001b[0;34m)\u001b[0m\u001b[0;34m\u001b[0m\u001b[0m\n\u001b[0m",
      "\u001b[0;31mNameError\u001b[0m: name 'scipy' is not defined"
     ]
    }
   ],
   "source": [
    "x = scipy.optimize.broyden1(F, [1,1,1,1], f_tol=1e-14)"
   ]
  },
  {
   "cell_type": "code",
   "execution_count": 3,
   "metadata": {
    "collapsed": true
   },
   "outputs": [],
   "source": [
    "import numpy as np\n",
    "from scipy.optimize import newton_krylov\n",
    "from numpy import cosh, zeros_like, mgrid, zeros"
   ]
  },
  {
   "cell_type": "code",
   "execution_count": 2,
   "metadata": {
    "collapsed": true
   },
   "outputs": [],
   "source": [
    "def fun(x,y):\n",
    "    return x+y+x*y+x**2-7"
   ]
  },
  {
   "cell_type": "code",
   "execution_count": 94,
   "metadata": {
    "collapsed": true
   },
   "outputs": [],
   "source": [
    "funx = lambda x: fun(x,y)"
   ]
  },
  {
   "cell_type": "code",
   "execution_count": 97,
   "metadata": {},
   "outputs": [
    {
     "data": {
      "text/plain": [
       "1"
      ]
     },
     "execution_count": 97,
     "metadata": {},
     "output_type": "execute_result"
    }
   ],
   "source": [
    "y = 3\n",
    "funx(1)"
   ]
  },
  {
   "cell_type": "code",
   "execution_count": 98,
   "metadata": {},
   "outputs": [
    {
     "data": {
      "text/plain": [
       "array(0.8284271247493729)"
      ]
     },
     "execution_count": 98,
     "metadata": {},
     "output_type": "execute_result"
    }
   ],
   "source": [
    "newton_krylov(funx,2)"
   ]
  },
  {
   "cell_type": "code",
   "execution_count": 99,
   "metadata": {
    "collapsed": true
   },
   "outputs": [
    {
     "name": "stdout",
     "output_type": "stream",
     "text": [
      "Help on function asarray in module numpy.core.numeric:\n",
      "\n",
      "asarray(a, dtype=None, order=None)\n",
      "    Convert the input to an array.\n",
      "    \n",
      "    Parameters\n",
      "    ----------\n",
      "    a : array_like\n",
      "        Input data, in any form that can be converted to an array.  This\n",
      "        includes lists, lists of tuples, tuples, tuples of tuples, tuples\n",
      "        of lists and ndarrays.\n",
      "    dtype : data-type, optional\n",
      "        By default, the data-type is inferred from the input data.\n",
      "    order : {'C', 'F'}, optional\n",
      "        Whether to use row-major (C-style) or\n",
      "        column-major (Fortran-style) memory representation.\n",
      "        Defaults to 'C'.\n",
      "    \n",
      "    Returns\n",
      "    -------\n",
      "    out : ndarray\n",
      "        Array interpretation of `a`.  No copy is performed if the input\n",
      "        is already an ndarray with matching dtype and order.  If `a` is a\n",
      "        subclass of ndarray, a base class ndarray is returned.\n",
      "    \n",
      "    See Also\n",
      "    --------\n",
      "    asanyarray : Similar function which passes through subclasses.\n",
      "    ascontiguousarray : Convert input to a contiguous array.\n",
      "    asfarray : Convert input to a floating point ndarray.\n",
      "    asfortranarray : Convert input to an ndarray with column-major\n",
      "                     memory order.\n",
      "    asarray_chkfinite : Similar function which checks input for NaNs and Infs.\n",
      "    fromiter : Create an array from an iterator.\n",
      "    fromfunction : Construct an array by executing a function on grid\n",
      "                   positions.\n",
      "    \n",
      "    Examples\n",
      "    --------\n",
      "    Convert a list into an array:\n",
      "    \n",
      "    >>> a = [1, 2]\n",
      "    >>> np.asarray(a)\n",
      "    array([1, 2])\n",
      "    \n",
      "    Existing arrays are not copied:\n",
      "    \n",
      "    >>> a = np.array([1, 2])\n",
      "    >>> np.asarray(a) is a\n",
      "    True\n",
      "    \n",
      "    If `dtype` is set, array is copied only if dtype does not match:\n",
      "    \n",
      "    >>> a = np.array([1, 2], dtype=np.float32)\n",
      "    >>> np.asarray(a, dtype=np.float32) is a\n",
      "    True\n",
      "    >>> np.asarray(a, dtype=np.float64) is a\n",
      "    False\n",
      "    \n",
      "    Contrary to `asanyarray`, ndarray subclasses are not passed through:\n",
      "    \n",
      "    >>> issubclass(np.matrix, np.ndarray)\n",
      "    True\n",
      "    >>> a = np.matrix([[1, 2]])\n",
      "    >>> np.asarray(a) is a\n",
      "    False\n",
      "    >>> np.asanyarray(a) is a\n",
      "    True\n",
      "\n"
     ]
    }
   ],
   "source": [
    "help(np.asarray)"
   ]
  },
  {
   "cell_type": "code",
   "execution_count": 100,
   "metadata": {
    "collapsed": true
   },
   "outputs": [
    {
     "name": "stdout",
     "output_type": "stream",
     "text": [
      "Help on function fromfunction in module numpy.core.numeric:\n",
      "\n",
      "fromfunction(function, shape, **kwargs)\n",
      "    Construct an array by executing a function over each coordinate.\n",
      "    \n",
      "    The resulting array therefore has a value ``fn(x, y, z)`` at\n",
      "    coordinate ``(x, y, z)``.\n",
      "    \n",
      "    Parameters\n",
      "    ----------\n",
      "    function : callable\n",
      "        The function is called with N parameters, where N is the rank of\n",
      "        `shape`.  Each parameter represents the coordinates of the array\n",
      "        varying along a specific axis.  For example, if `shape`\n",
      "        were ``(2, 2)``, then the parameters in turn be (0, 0), (0, 1),\n",
      "        (1, 0), (1, 1).\n",
      "    shape : (N,) tuple of ints\n",
      "        Shape of the output array, which also determines the shape of\n",
      "        the coordinate arrays passed to `function`.\n",
      "    dtype : data-type, optional\n",
      "        Data-type of the coordinate arrays passed to `function`.\n",
      "        By default, `dtype` is float.\n",
      "    \n",
      "    Returns\n",
      "    -------\n",
      "    fromfunction : any\n",
      "        The result of the call to `function` is passed back directly.\n",
      "        Therefore the shape of `fromfunction` is completely determined by\n",
      "        `function`.  If `function` returns a scalar value, the shape of\n",
      "        `fromfunction` would match the `shape` parameter.\n",
      "    \n",
      "    See Also\n",
      "    --------\n",
      "    indices, meshgrid\n",
      "    \n",
      "    Notes\n",
      "    -----\n",
      "    Keywords other than `dtype` are passed to `function`.\n",
      "    \n",
      "    Examples\n",
      "    --------\n",
      "    >>> np.fromfunction(lambda i, j: i == j, (3, 3), dtype=int)\n",
      "    array([[ True, False, False],\n",
      "           [False,  True, False],\n",
      "           [False, False,  True]], dtype=bool)\n",
      "    \n",
      "    >>> np.fromfunction(lambda i, j: i + j, (3, 3), dtype=int)\n",
      "    array([[0, 1, 2],\n",
      "           [1, 2, 3],\n",
      "           [2, 3, 4]])\n",
      "\n"
     ]
    }
   ],
   "source": [
    "help(np.fromfunction)"
   ]
  },
  {
   "cell_type": "code",
   "execution_count": 103,
   "metadata": {
    "collapsed": true
   },
   "outputs": [
    {
     "data": {
      "text/plain": [
       "array([  0.        ,   0.1010101 ,   0.2020202 ,   0.3030303 ,\n",
       "         0.4040404 ,   0.50505051,   0.60606061,   0.70707071,\n",
       "         0.80808081,   0.90909091,   1.01010101,   1.11111111,\n",
       "         1.21212121,   1.31313131,   1.41414141,   1.51515152,\n",
       "         1.61616162,   1.71717172,   1.81818182,   1.91919192,\n",
       "         2.02020202,   2.12121212,   2.22222222,   2.32323232,\n",
       "         2.42424242,   2.52525253,   2.62626263,   2.72727273,\n",
       "         2.82828283,   2.92929293,   3.03030303,   3.13131313,\n",
       "         3.23232323,   3.33333333,   3.43434343,   3.53535354,\n",
       "         3.63636364,   3.73737374,   3.83838384,   3.93939394,\n",
       "         4.04040404,   4.14141414,   4.24242424,   4.34343434,\n",
       "         4.44444444,   4.54545455,   4.64646465,   4.74747475,\n",
       "         4.84848485,   4.94949495,   5.05050505,   5.15151515,\n",
       "         5.25252525,   5.35353535,   5.45454545,   5.55555556,\n",
       "         5.65656566,   5.75757576,   5.85858586,   5.95959596,\n",
       "         6.06060606,   6.16161616,   6.26262626,   6.36363636,\n",
       "         6.46464646,   6.56565657,   6.66666667,   6.76767677,\n",
       "         6.86868687,   6.96969697,   7.07070707,   7.17171717,\n",
       "         7.27272727,   7.37373737,   7.47474747,   7.57575758,\n",
       "         7.67676768,   7.77777778,   7.87878788,   7.97979798,\n",
       "         8.08080808,   8.18181818,   8.28282828,   8.38383838,\n",
       "         8.48484848,   8.58585859,   8.68686869,   8.78787879,\n",
       "         8.88888889,   8.98989899,   9.09090909,   9.19191919,\n",
       "         9.29292929,   9.39393939,   9.49494949,   9.5959596 ,\n",
       "         9.6969697 ,   9.7979798 ,   9.8989899 ,  10.        ])"
      ]
     },
     "execution_count": 103,
     "metadata": {},
     "output_type": "execute_result"
    }
   ],
   "source": [
    "yy = np.linspace(0,10,100)\n",
    "yy"
   ]
  },
  {
   "cell_type": "code",
   "execution_count": 106,
   "metadata": {
    "collapsed": true
   },
   "outputs": [],
   "source": [
    "x = sp.zeros_like(yy)"
   ]
  },
  {
   "cell_type": "code",
   "execution_count": 119,
   "metadata": {
    "scrolled": false
   },
   "outputs": [
    {
     "name": "stdout",
     "output_type": "stream",
     "text": [
      "249 ms ± 15.2 ms per loop (mean ± std. dev. of 7 runs, 1 loop each)\n"
     ]
    }
   ],
   "source": [
    "%%timeit\n",
    "for i, y in enumerate(yy):\n",
    "    x[i] = newton_krylov(funx,2)\n",
    "    #print(y,x[i],fun(x[i],y))  "
   ]
  },
  {
   "cell_type": "code",
   "execution_count": 114,
   "metadata": {
    "collapsed": true
   },
   "outputs": [],
   "source": [
    "from numba import jit"
   ]
  },
  {
   "cell_type": "code",
   "execution_count": 124,
   "metadata": {
    "collapsed": true
   },
   "outputs": [],
   "source": [
    "@jit(nopython=False)\n",
    "def findx(yy):\n",
    "    for i, y in enumerate(yy):\n",
    "        x[i] = newton_krylov(funx,2)\n",
    "    return x"
   ]
  },
  {
   "cell_type": "code",
   "execution_count": 126,
   "metadata": {},
   "outputs": [
    {
     "name": "stdout",
     "output_type": "stream",
     "text": [
      "250 ms ± 14 ms per loop (mean ± std. dev. of 7 runs, 1 loop each)\n"
     ]
    }
   ],
   "source": [
    "%%timeit\n",
    "x = findx(yy)"
   ]
  },
  {
   "cell_type": "code",
   "execution_count": 131,
   "metadata": {},
   "outputs": [
    {
     "name": "stdout",
     "output_type": "stream",
     "text": [
      "Help on function broyden1 in module scipy.optimize.nonlin:\n",
      "\n",
      "broyden1(F, xin, iter=None, alpha=None, reduction_method='restart', max_rank=None, verbose=False, maxiter=None, f_tol=None, f_rtol=None, x_tol=None, x_rtol=None, tol_norm=None, line_search='armijo', callback=None, **kw)\n",
      "    Find a root of a function, using Broyden's first Jacobian approximation.\n",
      "    \n",
      "    This method is also known as \\\"Broyden's good method\\\".\n",
      "    \n",
      "    Parameters\n",
      "    ----------\n",
      "    F : function(x) -> f\n",
      "        Function whose root to find; should take and return an array-like\n",
      "        object.\n",
      "    x0 : array_like\n",
      "        Initial guess for the solution\n",
      "    alpha : float, optional\n",
      "        Initial guess for the Jacobian is ``(-1/alpha)``.\n",
      "    reduction_method : str or tuple, optional\n",
      "        Method used in ensuring that the rank of the Broyden matrix\n",
      "        stays low. Can either be a string giving the name of the method,\n",
      "        or a tuple of the form ``(method, param1, param2, ...)``\n",
      "        that gives the name of the method and values for additional parameters.\n",
      "    \n",
      "        Methods available:\n",
      "    \n",
      "            - ``restart``: drop all matrix columns. Has no extra parameters.\n",
      "            - ``simple``: drop oldest matrix column. Has no extra parameters.\n",
      "            - ``svd``: keep only the most significant SVD components.\n",
      "              Takes an extra parameter, ``to_retain``, which determines the\n",
      "              number of SVD components to retain when rank reduction is done.\n",
      "              Default is ``max_rank - 2``.\n",
      "    \n",
      "    max_rank : int, optional\n",
      "        Maximum rank for the Broyden matrix.\n",
      "        Default is infinity (ie., no rank reduction).\n",
      "    iter : int, optional\n",
      "        Number of iterations to make. If omitted (default), make as many\n",
      "        as required to meet tolerances.\n",
      "    verbose : bool, optional\n",
      "        Print status to stdout on every iteration.\n",
      "    maxiter : int, optional\n",
      "        Maximum number of iterations to make. If more are needed to\n",
      "        meet convergence, `NoConvergence` is raised.\n",
      "    f_tol : float, optional\n",
      "        Absolute tolerance (in max-norm) for the residual.\n",
      "        If omitted, default is 6e-6.\n",
      "    f_rtol : float, optional\n",
      "        Relative tolerance for the residual. If omitted, not used.\n",
      "    x_tol : float, optional\n",
      "        Absolute minimum step size, as determined from the Jacobian\n",
      "        approximation. If the step size is smaller than this, optimization\n",
      "        is terminated as successful. If omitted, not used.\n",
      "    x_rtol : float, optional\n",
      "        Relative minimum step size. If omitted, not used.\n",
      "    tol_norm : function(vector) -> scalar, optional\n",
      "        Norm to use in convergence check. Default is the maximum norm.\n",
      "    line_search : {None, 'armijo' (default), 'wolfe'}, optional\n",
      "        Which type of a line search to use to determine the step size in the\n",
      "        direction given by the Jacobian approximation. Defaults to 'armijo'.\n",
      "    callback : function, optional\n",
      "        Optional callback function. It is called on every iteration as\n",
      "        ``callback(x, f)`` where `x` is the current solution and `f`\n",
      "        the corresponding residual.\n",
      "    \n",
      "    Returns\n",
      "    -------\n",
      "    sol : ndarray\n",
      "        An array (of similar array type as `x0`) containing the final solution.\n",
      "    \n",
      "    Raises\n",
      "    ------\n",
      "    NoConvergence\n",
      "        When a solution was not found.\n",
      "    \n",
      "    Notes\n",
      "    -----\n",
      "    This algorithm implements the inverse Jacobian Quasi-Newton update\n",
      "    \n",
      "    .. math:: H_+ = H + (dx - H df) dx^\\dagger H / ( dx^\\dagger H df)\n",
      "    \n",
      "    which corresponds to Broyden's first Jacobian update\n",
      "    \n",
      "    .. math:: J_+ = J + (df - J dx) dx^\\dagger / dx^\\dagger dx\n",
      "    \n",
      "    \n",
      "    References\n",
      "    ----------\n",
      "    .. [1] B.A. van der Rotten, PhD thesis,\n",
      "       \\\"A limited memory Broyden method to solve high-dimensional\n",
      "       systems of nonlinear equations\\\". Mathematisch Instituut,\n",
      "       Universiteit Leiden, The Netherlands (2003).\n",
      "    \n",
      "       http://www.math.leidenuniv.nl/scripties/Rotten.pdf\n",
      "\n"
     ]
    }
   ],
   "source": [
    "import scipy.optimize.nonlin as spnl\n",
    "help(spnl.broyden1)"
   ]
  },
  {
   "cell_type": "code",
   "execution_count": 6,
   "metadata": {
    "collapsed": true
   },
   "outputs": [],
   "source": [
    "def func(x,y):\n",
    "    def fund(x,y):\n",
    "        return x+y\n",
    "    z = fund(x,y)\n",
    "\n",
    "    return 2*z\n"
   ]
  },
  {
   "cell_type": "code",
   "execution_count": 7,
   "metadata": {},
   "outputs": [
    {
     "data": {
      "text/plain": [
       "6"
      ]
     },
     "execution_count": 7,
     "metadata": {},
     "output_type": "execute_result"
    }
   ],
   "source": [
    "func(1,2)"
   ]
  },
  {
   "cell_type": "code",
   "execution_count": null,
   "metadata": {
    "collapsed": true
   },
   "outputs": [],
   "source": []
  }
 ],
 "metadata": {
  "hide_input": false,
  "kernelspec": {
   "display_name": "Python 3",
   "language": "python",
   "name": "python3"
  },
  "language_info": {
   "codemirror_mode": {
    "name": "ipython",
    "version": 3
   },
   "file_extension": ".py",
   "mimetype": "text/x-python",
   "name": "python",
   "nbconvert_exporter": "python",
   "pygments_lexer": "ipython3",
   "version": "3.6.1"
  },
  "latex_envs": {
   "bibliofile": "biblio.bib",
   "cite_by": "apalike",
   "current_citInitial": 1,
   "eqLabelWithNumbers": true,
   "eqNumInitial": 0
  }
 },
 "nbformat": 4,
 "nbformat_minor": 2
}

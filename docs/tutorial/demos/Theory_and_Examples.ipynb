{
 "cells": [
  {
   "cell_type": "markdown",
   "metadata": {
    "slideshow": {
     "slide_type": "slide"
    }
   },
   "source": [
    "# Mousai: An Open-Source General Purpose Harmonic Balance Solver\n",
    "\n",
    "Joseph C. Slater, October 23, 2017"
   ]
  },
  {
   "cell_type": "code",
   "execution_count": 54,
   "metadata": {
    "ExecuteTime": {
     "end_time": "2017-10-02T12:54:04.905714Z",
     "start_time": "2017-10-02T12:54:03.808563Z"
    },
    "init_cell": true,
    "slideshow": {
     "slide_type": "skip"
    }
   },
   "outputs": [
    {
     "name": "stdout",
     "output_type": "stream",
     "text": [
      "The autoreload extension is already loaded. To reload it, use:\n",
      "  %reload_ext autoreload\n"
     ]
    }
   ],
   "source": [
    "%matplotlib inline\n",
    "%load_ext autoreload\n",
    "%autoreload 2\n",
    "import scipy as sp\n",
    "import numpy as np\n",
    "import matplotlib.pyplot as plt\n",
    "import mousai as ms\n",
    "from scipy import pi, sin"
   ]
  },
  {
   "cell_type": "markdown",
   "metadata": {
    "slideshow": {
     "slide_type": "slide"
    }
   },
   "source": [
    "## Overview\n",
    "* A wide array of contemporary problems can be represented by nonlinear ordinary differential equations with solutions that can be represented by Fourier Series\n",
    "  * Limit cycle oscillation of wings/blades\n",
    "  * Flapping motion of birds/insects/ornithopters\n",
    "  * Flagellum (threadlike cellular structures that enable bacteria etc. to swim)\n",
    "  * Shaft rotation, especially including rubbing or nonlinear bearing contacts\n",
    "  * *Engines*\n",
    "  * Radio/sonar/radar electronics\n",
    "  * Wireless power transmission\n",
    "  * Power converters\n",
    "  * Boat/ship motions and interactions\n",
    "  \n",
    " "
   ]
  },
  {
   "cell_type": "markdown",
   "metadata": {
    "slideshow": {
     "slide_type": "slide"
    }
   },
   "source": [
    "  * Cardio systems (heart/arteries/veins/)\n",
    "  * Ultrasonic systems transversing nonlinear media\n",
    "  * Responses of composite materials or materials with cracks\n",
    "  * Near buckling behavior of vibrating columns\n",
    "  * Nonlinearities in power systems\n",
    "  * Energy harvesting systems\n",
    "  * Wind turbines\n",
    "  * Radio Frequency Integrated Circuits\n",
    "  * **Any system with nonlinear coatings/friction damping, air damping, etc.**\n",
    "  \n",
    "These can all be observed in a quick literature search on 'Harmonic Balance'. "
   ]
  },
  {
   "cell_type": "markdown",
   "metadata": {
    "slideshow": {
     "slide_type": "slide"
    }
   },
   "source": [
    "## Why write Mousai?\n",
    "\n",
    "* The ability to code harmonic balance seems to be publishable by itself\n",
    "    * It's not research- it's just application of a known technique\n",
    "* A limited number of people have this knowledge and skill\n",
    "    * Most cannot access this technique\n",
    "    * \"Research effort\" is spent coding the technique, not doing research"
   ]
  },
  {
   "cell_type": "markdown",
   "metadata": {
    "slideshow": {
     "slide_type": "slide"
    }
   },
   "source": [
    "## Why write Mousai? (continued)\n",
    "* Matlab command eig unleashed power to the masses\n",
    "    * Very few papers are published on eigensolutions- they have to be better than ``eig``\n",
    "    * ``eig`` only provides simple access to high-end eigensolvers written in ``C`` and ``Fortran``\n",
    "    * Undergraduates with no practical understanding of the algorithms easily solve problems\n",
    "    that were intractable a few decades ago.\n",
    "* *Access* and *ease of use* of such techniques enable *greater science* and *greater research*.\n",
    "* The real world is nonlinear, but linear analysis dominates because the tools are easier to use.\n",
    "* With ``Mousai``, an undergraduate can solve a nonlinear harmonic problem easier then a PhD can today (unless they have their own solver!)"
   ]
  },
  {
   "cell_type": "code",
   "execution_count": 51,
   "metadata": {
    "collapsed": true,
    "slideshow": {
     "slide_type": "slide"
    }
   },
   "outputs": [],
   "source": [
    "def duff_osc_ss(x, params):\n",
    "    omega = params['omega']\n",
    "    t = params['cur_time']\n",
    "    xd = np.array([[x[1]],\n",
    "                   [-x[0]-.1*x[0]**3-.1*x[1]+1*sin(omega*t)]])\n",
    "    return xd"
   ]
  },
  {
   "cell_type": "code",
   "execution_count": 52,
   "metadata": {
    "ExecuteTime": {
     "end_time": "2017-10-02T12:54:00.340317Z",
     "start_time": "2017-10-02T12:54:00.144703Z"
    },
    "slideshow": {
     "slide_type": "slide"
    }
   },
   "outputs": [
    {
     "data": {
      "text/plain": [
       "array([ 0.94593474,  0.09459347])"
      ]
     },
     "execution_count": 52,
     "metadata": {},
     "output_type": "execute_result"
    }
   ],
   "source": [
    "t, x, e, amps, phases = ms.hb_so(duff_osc_ss, x0 = np.array([[0,1,-1],[.1,-.1,0,]]), \n",
    "                                 omega = 0.1, eqform='first_order', num_harmonics=1)\n",
    "amps"
   ]
  },
  {
   "cell_type": "code",
   "execution_count": 56,
   "metadata": {
    "scrolled": true
   },
   "outputs": [
    {
     "data": {
      "text/plain": [
       "array([ 0.94695614,  0.09469561])"
      ]
     },
     "execution_count": 56,
     "metadata": {},
     "output_type": "execute_result"
    }
   ],
   "source": [
    "t, x, e, amps, phases = ms.hb_so(duff_osc_ss, x0 = np.array([[0,1,-1],[.1,-.1,0,]]), omega = .1, eqform='first_order', num_harmonics=5)\n",
    "amps"
   ]
  },
  {
   "cell_type": "code",
   "execution_count": 53,
   "metadata": {
    "slideshow": {
     "slide_type": "skip"
    }
   },
   "outputs": [
    {
     "data": {
      "text/plain": [
       "array([ 0.94593474,  0.09459347])"
      ]
     },
     "execution_count": 53,
     "metadata": {},
     "output_type": "execute_result"
    }
   ],
   "source": [
    "amps"
   ]
  },
  {
   "cell_type": "code",
   "execution_count": 32,
   "metadata": {
    "slideshow": {
     "slide_type": "skip"
    }
   },
   "outputs": [
    {
     "data": {
      "text/plain": [
       "array([  0.        ,   5.71198664,  11.42397329,  17.13595993,\n",
       "        22.84794657,  28.55993321,  34.27191986,  39.9839065 ,\n",
       "        45.69589314,  51.40787979,  57.11986643])"
      ]
     },
     "execution_count": 32,
     "metadata": {},
     "output_type": "execute_result"
    }
   ],
   "source": [
    "t"
   ]
  },
  {
   "cell_type": "code",
   "execution_count": 6,
   "metadata": {
    "slideshow": {
     "slide_type": "skip"
    }
   },
   "outputs": [
    {
     "name": "stdout",
     "output_type": "stream",
     "text": [
      "Help on function hb_so in module mousai.har_bal:\n",
      "\n",
      "hb_so(sdfunc, x0=None, omega=1, method='newton_krylov', num_harmonics=1, num_variables=None, eqform='second_order', params={'function': <function duff_osc_ss at 0x107a22730>, 'time': array([  0.        ,   5.71198664,  11.42397329,  17.13595993,\n",
      "        22.84794657,  28.55993321,  34.27191986,  39.9839065 ,\n",
      "        45.69589314,  51.40787979,  57.11986643]), 'omega': 0.1, 'n_har': 5, 'cur_time': 57.119866428905333}, realify=True, **kwargs)\n",
      "    Harmonic balance solver for second order ODEs.\n",
      "    \n",
      "    Obtains the solution of a second-order differential equation under the\n",
      "    presumption that the solution is harmonic.\n",
      "    \n",
      "    Returns t (time), x (displacement), v (velocity), and a (acceleration)\n",
      "    response of a second order linear ordinary differential\n",
      "    equation defined by\n",
      "    :math:`\\ddot{\\mathbf{x}}=f(\\mathbf{x},\\mathbf{v},\\omega)` or\n",
      "    :math:`\\dot{\\mathbf{x}}=f(\\mathbf{x},\\omega)`.\n",
      "    \n",
      "    For the state space form, the function ``sdfunc`` should have the form::\n",
      "    \n",
      "        def duff_osc_ss(x, params):  # params is a dictionary of parameters\n",
      "            omega = params['omega']  # `omega` will be put into the dictionary\n",
      "                                     # for you\n",
      "            t = params['cur_time']   # The time value is available as\n",
      "                                     # `cur_time` in the dictionary\n",
      "            return np.array([[x[1]],[-x[0]-.1*x[0]**3-.1*x[1]+1*sin(omega*t)]])\n",
      "    \n",
      "    In a state space form solution, the function must take the states and the\n",
      "    ``params`` dictionary. This dictionary should be used to obtain the\n",
      "    prescribed response frequency and the current time. These plus any other\n",
      "    parameters are used to calculate the state derivatives which are returned\n",
      "    by the function.\n",
      "    \n",
      "    For the second order form the function ``sdfunc`` should have the form::\n",
      "    \n",
      "        def duff_osc(x, v, params):  # params is a dictionary of parameters\n",
      "            omega = params['omega']  # `omega` will be put into the dictionary\n",
      "                                     # for you\n",
      "            t = params['cur_time']   # The time value is available as\n",
      "                                     # `cur_time` in the dictionary\n",
      "            return np.array([[-x-.1*x**3-.2*v+sin(omega*t)]])\n",
      "    \n",
      "    In a second-order form solution the function must take the states and the\n",
      "    ``params`` dictionary. This dictionary should be used to obtain the\n",
      "    prescribed response frequency and the current time. These plus any other\n",
      "    parameters are used to calculate the state derivatives which are returned\n",
      "    by the function.\n",
      "    \n",
      "    \n",
      "    Parameters\n",
      "    ----------\n",
      "    sdfunc: function\n",
      "        For ``eqform='first_order'``, name of function that returns **column\n",
      "        vector** first derivative given `x`, omega and \\*\\*kwargs. This is\n",
      "        *NOT* a string.\n",
      "    \n",
      "        :math:`\\dot{\\mathbf{x}}=f(\\mathbf{x},\\omega)`\n",
      "    \n",
      "        For ``eqform='second_order'``, name of function that returns **column\n",
      "        vector** second derivative given `x`, `v`, omega and \\*\\*kwargs. This\n",
      "        is *NOT* a string.\n",
      "    \n",
      "        :math:`\\ddot{\\mathbf{x}}=f(\\mathbf{x},\\mathbf{v},\\omega)`\n",
      "    x0: array_like, optional\n",
      "        n x m array where n is the number of equations and m is the number of\n",
      "        values representing the repeating solution.\n",
      "        It is required that :math:`m = 1 + 2 num_{harmonics}`. (we will\n",
      "        generalize allowable default values later.)\n",
      "    omega:  float\n",
      "        assumed fundamental response frequency in radians per second.\n",
      "    method: str\n",
      "        Name of optimization method to be used.\n",
      "    num_harmonics: int, optional\n",
      "        Number of harmonics to presume. The omega = 0 constant term is always\n",
      "        presumed to exist. Minimum (and default) is 1. If num_harmonics*2+1\n",
      "        exceeds the number of columns of x0 then x0 will be expanded, using\n",
      "        Fourier analaysis, to include additional harmonics with the starting\n",
      "        presumption of zero values.\n",
      "    num_variables: int, optional\n",
      "        If x0 is defined, num_variables is inferred. An error will result if\n",
      "        both x0 and num_variables are left out of the function call.\n",
      "    eqform: str\n",
      "        ``second_order`` or ``first_order``.\n",
      "    params: dict\n",
      "        Dictionary of parameters needed by sdfunc.\n",
      "    realify: boolean\n",
      "        Force the returned results to be real.\n",
      "    other: any\n",
      "        Other keyword arguments available to nonlinear solvers in\n",
      "        `scipy.optimize.nonlin\n",
      "        <https://docs.scipy.org/doc/scipy/reference/optimize.nonlin.html>`_.\n",
      "        See Notes.\n",
      "    \n",
      "    Returns\n",
      "    -------\n",
      "    t, x, e, amps, phases: array_like\n",
      "        time, displacement history (time steps along columns), errors,\n",
      "    amps : float array\n",
      "        amplitudes of displacement (primary harmonic) in column vector format.\n",
      "    phases : float array\n",
      "        amplitudes of displacement (primary harmonic) in column vector format.\n",
      "    \n",
      "    Examples\n",
      "    --------\n",
      "    >>> import mousai as ms\n",
      "    >>> t, x, e, amps, phases = ms.hb_so(ms.duff_osc, np.array([[0,1,-1]]), .7)\n",
      "    \n",
      "    Notes\n",
      "    ------\n",
      "    Calls a linear algebra function from\n",
      "    `scipy.optimize.nonlin\n",
      "    <https://docs.scipy.org/doc/scipy/reference/optimize.nonlin.html>`_ with\n",
      "    ``newton_krylov`` as the default.\n",
      "    \n",
      "    Benefits from quasi-linear estimator for starting point.\n",
      "    \n",
      "    Should gently \"walk\" solution up to get to nonlinearities.\n",
      "    \n",
      "    Algorithm:\n",
      "        1. calls `hb_so_err` with x as the variable to solve for.\n",
      "        2. `hb_so_err` uses a Fourier representation of x to obtain velocities\n",
      "           (after an inverse fft) then calls `sdfunc` to determine\n",
      "           accelerations.\n",
      "        3. Accelerations are also obtained using a Fourier representation of x\n",
      "        4. Error in the accelerations are the functional error used by the\n",
      "           nonlinear algebraic solver (default ``newton_krylov``) to be\n",
      "           minimized by the solver.\n",
      "    \n",
      "    Options to the nonlinear solvers can be passed in by \\*\\*kwargs.\n",
      "\n"
     ]
    }
   ],
   "source": [
    "help(ms.hb_so)"
   ]
  },
  {
   "cell_type": "code",
   "execution_count": 2,
   "metadata": {
    "collapsed": true,
    "slideshow": {
     "slide_type": "slide"
    }
   },
   "outputs": [],
   "source": [
    "def two_dof_demo(x, params):\n",
    "    '''Example from Slater, 1996\n",
    "    Slater, J. C., “A Numerical Method for Determining Nonlinear Normal Modes,” \n",
    "    Nonlinear Dynamics, Vol. 10, May 1996, pp. 19–30.\n",
    "    Equation (4)'''\n",
    "    omega = params['omega']\n",
    "    t = params['cur_time']\n",
    "    xd = np.array([[x[2]],\n",
    "                  [-2*x[1]+x[3]],\n",
    "                  [x[4]],\n",
    "                  [x[3]-2*x[1]]])\n",
    "    \n",
    "    return xd"
   ]
  }
 ],
 "metadata": {
  "celltoolbar": "Slideshow",
  "hide_input": false,
  "kernelspec": {
   "display_name": "Python 3",
   "language": "python",
   "name": "python3"
  },
  "language_info": {
   "codemirror_mode": {
    "name": "ipython",
    "version": 3
   },
   "file_extension": ".py",
   "mimetype": "text/x-python",
   "name": "python",
   "nbconvert_exporter": "python",
   "pygments_lexer": "ipython3",
   "version": "3.6.2"
  },
  "toc": {
   "nav_menu": {},
   "number_sections": false,
   "sideBar": true,
   "skip_h1_title": false,
   "toc_cell": false,
   "toc_position": {},
   "toc_section_display": "block",
   "toc_window_display": true
  },
  "varInspector": {
   "cols": {
    "lenName": 16,
    "lenType": 16,
    "lenVar": 40
   },
   "kernels_config": {
    "python": {
     "delete_cmd_postfix": "",
     "delete_cmd_prefix": "del ",
     "library": "var_list.py",
     "varRefreshCmd": "print(var_dic_list())"
    },
    "r": {
     "delete_cmd_postfix": ") ",
     "delete_cmd_prefix": "rm(",
     "library": "var_list.r",
     "varRefreshCmd": "cat(var_dic_list()) "
    }
   },
   "types_to_exclude": [
    "module",
    "function",
    "builtin_function_or_method",
    "instance",
    "_Feature"
   ],
   "window_display": false
  }
 },
 "nbformat": 4,
 "nbformat_minor": 2
}

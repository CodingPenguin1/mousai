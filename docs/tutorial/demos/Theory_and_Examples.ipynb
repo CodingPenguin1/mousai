{
 "cells": [
  {
   "cell_type": "markdown",
   "metadata": {
    "slideshow": {
     "slide_type": "slide"
    }
   },
   "source": [
    "# Mousai: An Open-Source General Purpose Harmonic Balance Solver\n",
    "\n",
    "ASME Dayton Engineering Sciences Symposium 2017  \n",
    "Joseph C. Slater, October 23, 2017"
   ]
  },
  {
   "cell_type": "code",
   "execution_count": 2,
   "metadata": {
    "ExecuteTime": {
     "end_time": "2017-10-02T12:54:04.905714Z",
     "start_time": "2017-10-02T12:54:03.808563Z"
    },
    "init_cell": true,
    "slideshow": {
     "slide_type": "skip"
    }
   },
   "outputs": [
    {
     "name": "stdout",
     "output_type": "stream",
     "text": [
      "The autoreload extension is already loaded. To reload it, use:\n",
      "  %reload_ext autoreload\n"
     ]
    }
   ],
   "source": [
    "%matplotlib inline\n",
    "%load_ext autoreload\n",
    "%autoreload 2\n",
    "import scipy as sp\n",
    "import numpy as np\n",
    "import matplotlib.pyplot as plt\n",
    "import matplotlib\n",
    "import mousai as ms\n",
    "from scipy import pi, sin\n",
    "matplotlib.rcParams['figure.figsize'] = (11, 5)"
   ]
  },
  {
   "cell_type": "markdown",
   "metadata": {
    "slideshow": {
     "slide_type": "slide"
    }
   },
   "source": [
    "## Overview\n",
    "A wide array of contemporary problems can be represented by nonlinear ordinary differential equations with solutions that can be represented by Fourier Series:\n",
    "  * Limit cycle oscillation of wings/blades\n",
    "  * Flapping motion of birds/insects/ornithopters\n",
    "  * Flagellum (threadlike cellular structures that enable bacteria etc. to swim)\n",
    "  * Shaft rotation, especially including rubbing or nonlinear bearing contacts\n",
    "  * *Engines*\n",
    "  * Radio/sonar/radar electronics\n",
    "  * Wireless power transmission\n",
    "  * Power converters\n",
    "  * Boat/ship motions and interactions"
   ]
  },
  {
   "cell_type": "markdown",
   "metadata": {
    "slideshow": {
     "slide_type": "slide"
    }
   },
   "source": [
    "  * Cardio systems (heart/arteries/veins/)\n",
    "  * Ultrasonic systems transversing nonlinear media\n",
    "  * Responses of composite materials or materials with cracks\n",
    "  * Near buckling behavior of vibrating columns\n",
    "  * Nonlinearities in power systems\n",
    "  * Energy harvesting systems\n",
    "  * Wind turbines\n",
    "  * Radio Frequency Integrated Circuits\n",
    "  * **Any system with nonlinear coatings/friction damping, air damping, etc.**\n",
    "  \n",
    "These can all be observed in a quick literature search on 'Harmonic Balance'. "
   ]
  },
  {
   "cell_type": "markdown",
   "metadata": {
    "slideshow": {
     "slide_type": "slide"
    }
   },
   "source": [
    "## Why (did I) write Mousai?\n",
    "\n",
    "* The ability to code harmonic balance seems to be publishable by itself\n",
    "    * It's not research- it's just application of a known family of technique\n",
    "* A limited number of people have this knowledge and skill\n",
    "    * Most cannot access this technique\n",
    "    * \"Research effort\" is spent coding the technique, not doing research"
   ]
  },
  {
   "cell_type": "markdown",
   "metadata": {
    "slideshow": {
     "slide_type": "slide"
    }
   },
   "source": [
    "### Why write Mousai? (continued)\n",
    "* Matlab command eig unleashed power to the masses\n",
    "  * Very few papers are published on eigensolutions- they have to be better than ``eig``\n",
    "  * ``eig`` only provides simple access to high-end eigensolvers written in ``C`` and ``Fortran``\n",
    "  * Undergraduates with no practical understanding of the algorithms easily solve problems\n",
    "    that were intractable a few decades ago.\n",
    "  * *Access* and *ease of use* of such techniques enable *greater science* and *greater research*.\n",
    "  * The real world is nonlinear, but **linear analysis dominates because the tools are easier to use**.\n",
    "  * With ``Mousai``, an undergraduate can solve a nonlinear harmonic response problem easier then a PhD can today."
   ]
  },
  {
   "cell_type": "markdown",
   "metadata": {
    "slideshow": {
     "slide_type": "slide"
    }
   },
   "source": [
    "## Theory: \n",
    "### Linear Solution\n",
    "\n",
    "- Most dynamics systems can be modeled as a first order differential equation\n",
    "\\begin{equation}\n",
    "\\ddot{\\mathbf{z}}(t)=\\mathbf{f}(\\mathbf{z}(t),\\mathbf{u}(t))\n",
    "\\end{equation}\n",
    "    - Use finite differences\n",
    "    - Use Galerkin methods (Finite Elements)\n",
    "    - Of course discrete objects\n",
    "- This is the common *State-Space* form:\n",
    "    -solutions exceedingly well known if it is linear \n",
    "\n",
    "- Finding the oscillatory response, after dissipation of the transient response, requires **long** time marching. \n",
    "    - Without damping, this may not even been feasible. \n",
    "    - With damping, tens, hundreds, or thousands of cycles, therefore thousands of times steps at minimum. \n"
   ]
  },
  {
   "cell_type": "markdown",
   "metadata": {
    "slideshow": {
     "slide_type": "slide"
    }
   },
   "source": [
    "- For a linear system in the frequency domain this is\n",
    "\\begin{equation}\n",
    "j\\omega\\mathbf{Z}(\\omega)=\\mathbf{f}(\\mathbf{Z}(\\omega),\\mathbf{U}(\\omega))\n",
    "\\end{equation}\n",
    "\\begin{equation}\n",
    "j\\omega\\mathbf{Z}(\\omega)=A\\mathbf{Z}(\\omega)+B\\mathbf{U}(\\omega)\n",
    "\\end{equation}\n",
    "where\n",
    "\\begin{equation}\n",
    "A = \\frac{\\partial \\mathbf{f}(\\mathbf{Z}(\\omega),\\mathbf{U}(\\omega))}{\\partial\\mathbf{Z}(\\omega)},\\qquad\n",
    "B = \\frac{\\partial \\mathbf{f}(\\mathbf{Z}(\\omega),\\mathbf{U}(\\omega))}{\\partial\\mathbf{U}(\\omega)}\n",
    "\\end{equation}\n",
    "are constant matrices. \n",
    "\n",
    "The solution is:\n",
    "\\begin{equation}\n",
    "\\mathbf{Z}(\\omega) = \\left(I-A^{-1}\\right)B\\mathbf{U}(\\omega)\n",
    "\\end{equation}\n",
    "Where the magnitudes and phases of the elements of $\\mathbf{Z}$ provide the amplitudes and phases of the harmonic response of each state at the frequency $\\omega$."
   ]
  },
  {
   "cell_type": "markdown",
   "metadata": {
    "slideshow": {
     "slide_type": "slide"
    }
   },
   "source": [
    "### Nonlinear solution\n",
    "\n",
    "- For a nonlinear system in the frequency domain we assume a Fourier series solution\n",
    "\\begin{equation}\n",
    "\\mathbf{z}(t)=\\lim_{N\\to\\infty}\\sum_{n=-N}^{N}\\mathbf{Z}_n e^{j n \\omega t}\n",
    "\\end{equation}\n",
    "\n",
    "- $N=1$ for a single harmonic. $n=0$ is the constant term.\n",
    "- This can be substituted into the governing equation to find $\\dot{\\mathbf{z}}(t)$:\n",
    "\\begin{equation}\n",
    "\\dot{\\mathbf{z}}(t)=\\mathbf{f}(\\mathbf{z}(t),\\mathbf{u}(t))\n",
    "\\end{equation}\n",
    "- This is actually a function call to a Finite Element Package, CFD, Matlab function, - whatever your solver uses to get derivatives \n",
    "\n",
    "- We can also find $\\dot{\\mathbf{z}}(t)$ from the derivative of the Fourier Series:\n",
    "\\begin{equation}\n",
    "\\dot{\\mathbf{z}}(t)=\\lim_{N\\to\\infty}\\sum_{n=-N}^{N}j n \\omega\\mathbf{Z}_n e^{j n \\omega t}\n",
    "\\end{equation}"
   ]
  },
  {
   "cell_type": "markdown",
   "metadata": {
    "slideshow": {
     "slide_type": "slide"
    }
   },
   "source": [
    "- The difference between these methods is zero when $\\mathbf{Z}_n$ are correct.\n",
    "\n",
    "\\begin{equation}\n",
    " \\mathbf{0} \\approx\\sum_{n=-N}^{N}j n\\omega \\mathbf{Z}_n e^{j n \\omega t}-\\mathbf{f}\\left(\\sum_{n=-N}^{N}\\mathbf{Z}_n e^{j n \\omega t},\\mathbf{u}(t)\\right)\n",
    "\\end{equation}\n",
    "\n",
    "- These operations are wrapped inside a function that returns this error\n",
    "- This function is used by a Newton-Krylov nonlinear algebraic solver. \n",
    "- Calls any solver in the SciPy family of solvers with the ability to easily pass through parameters to the solver *and* to the external derivative evaluator.\n"
   ]
  },
  {
   "cell_type": "markdown",
   "metadata": {
    "slideshow": {
     "slide_type": "slide"
    }
   },
   "source": [
    "## Examples:\n"
   ]
  },
  {
   "cell_type": "markdown",
   "metadata": {
    "slideshow": {
     "slide_type": "fragment"
    }
   },
   "source": [
    "### Duffing Oscillator\n",
    "\n",
    "$$\\ddot{x}+0.1\\dot{x}+x+0.1 x^3=\\sin(\\omega t)$$"
   ]
  },
  {
   "cell_type": "code",
   "execution_count": 3,
   "metadata": {
    "code_folding": [],
    "collapsed": true,
    "slideshow": {
     "slide_type": "fragment"
    }
   },
   "outputs": [],
   "source": [
    "# Define our function (Python)\n",
    "def duff_osc_ss(x, params):\n",
    "    omega = params['omega']\n",
    "    t = params['cur_time']\n",
    "    xd = np.array([[x[1]],\n",
    "                   [-x[0] - 0.1 * x[0]**3 - 0.1 * x[1] + 1 * sin(omega * t)]])\n",
    "    return xd"
   ]
  },
  {
   "cell_type": "code",
   "execution_count": 4,
   "metadata": {
    "code_folding": [],
    "slideshow": {
     "slide_type": "slide"
    }
   },
   "outputs": [
    {
     "name": "stdout",
     "output_type": "stream",
     "text": [
      "Displacement amplitude is  0.946956354668\n",
      "Velocity amplitude is  0.0946956354558\n"
     ]
    }
   ],
   "source": [
    "# Arguments are name of derivative function, number of states, driving frequency,\n",
    "# form of the equation, and number of harmonics\n",
    "\n",
    "t, x, e, amps, phases = ms.hb_so(duff_osc_ss, num_variables=2, omega=.1,\n",
    "                                 eqform='first_order', num_harmonics=5)\n",
    "print('Displacement amplitude is ', amps[0])\n",
    "print('Velocity amplitude is ', amps[1])"
   ]
  },
  {
   "cell_type": "markdown",
   "metadata": {
    "slideshow": {
     "slide_type": "slide"
    }
   },
   "source": [
    "#### Mousai can easily recreate the near-continuous response\n",
    "\n",
    "````python\n",
    "time, xc = ms.time_history(t, x)\n",
    "````"
   ]
  },
  {
   "cell_type": "code",
   "execution_count": 26,
   "metadata": {
    "collapsed": true,
    "slideshow": {
     "slide_type": "skip"
    }
   },
   "outputs": [],
   "source": [
    "def pltcont():\n",
    "    time, xc = ms.time_history(t, x)\n",
    "    disp_plot, _ = plt.plot(time, xc.T[:, 0], t,\n",
    "                            x.T[:, 0], '*b', label='Displacement')\n",
    "    vel_plot, _ = plt.plot(time, xc.T[:, 1], 'r',\n",
    "                           t, x.T[:, 1], '*r', label='Velocity')\n",
    "    plt.legend(handles=[disp_plot, vel_plot])\n",
    "    plt.xlabel('Time (sec)')\n",
    "    plt.title('Response of Duffing Oscillator at 0.0159 rad/sec')\n",
    "    plt.ylabel('Response')\n",
    "    plt.legend\n",
    "    plt.grid(True)"
   ]
  },
  {
   "cell_type": "code",
   "execution_count": 27,
   "metadata": {
    "slideshow": {
     "slide_type": "-"
    }
   },
   "outputs": [
    {
     "data": {
      "image/png": "[encoded data removed]",
      "text/plain": [
       "<matplotlib.figure.Figure at 0x1188eac88>"
      ]
     },
     "metadata": {},
     "output_type": "display_data"
    }
   ],
   "source": [
    "pltcont()"
   ]
  },
  {
   "cell_type": "code",
   "execution_count": 28,
   "metadata": {
    "code_folding": [],
    "hide_input": false,
    "slideshow": {
     "slide_type": "skip"
    }
   },
   "outputs": [
    {
     "data": {
      "image/png": "[encoded data removed]",
      "text/plain": [
       "<matplotlib.figure.Figure at 0x1188f5240>"
      ]
     },
     "metadata": {},
     "output_type": "display_data"
    }
   ],
   "source": [
    "time, xc = ms.time_history(t, x)\n",
    "disp_plot, _ = plt.plot(time, xc.T[:, 0], t,\n",
    "                        x.T[:, 0], '*b', label='Displacement')\n",
    "vel_plot, _ = plt.plot(time, xc.T[:, 1], 'r',\n",
    "                       t, x.T[:, 1], '*r', label='Velocity')\n",
    "plt.legend(handles=[disp_plot, vel_plot])\n",
    "plt.xlabel('Time (sec)')\n",
    "plt.title('Response of Duffing Oscillator at 0.0159 rad/sec')\n",
    "plt.ylabel('Response')\n",
    "plt.legend\n",
    "plt.grid(True)"
   ]
  },
  {
   "cell_type": "code",
   "execution_count": 6,
   "metadata": {
    "slideshow": {
     "slide_type": "skip"
    }
   },
   "outputs": [
    {
     "data": {
      "text/plain": [
       "[<matplotlib.lines.Line2D at 0x1182ab710>]"
      ]
     },
     "execution_count": 6,
     "metadata": {},
     "output_type": "execute_result"
    },
    {
     "data": {
      "image/png": "[encoded data removed]",
      "text/plain": [
       "<matplotlib.figure.Figure at 0x117876a20>"
      ]
     },
     "metadata": {},
     "output_type": "display_data"
    }
   ],
   "source": [
    "omega = np.arange(0, 3, 1 / 200) + 1 / 200\n",
    "amp = sp.zeros_like(omega)\n",
    "amp[:] = np.nan\n",
    "t, x, e, amps, phases = ms.hb_so(duff_osc_ss, num_variables=2,\n",
    "                                 omega=1 / 200, eqform='first_order', num_harmonics=1)\n",
    "for i, freq in enumerate(omega):\n",
    "    # Here we try to obtain solutions, but if they don't work,\n",
    "    # we ignore them by inserting `np.nan` values.\n",
    "    x = x - sp.average(x)\n",
    "    try:\n",
    "        t, x, e, amps, phases = ms.hb_so(duff_osc_ss, x0=x,\n",
    "                                         omega=freq, eqform='first_order', num_harmonics=1)  # , f_tol = 1e-6)#, callback = resid)\n",
    "        amp[i] = amps[0]\n",
    "    except:\n",
    "        amp[i] = np.nan\n",
    "    if np.isnan(amp[i]):\n",
    "        break\n",
    "plt.plot(omega, amp)"
   ]
  },
  {
   "cell_type": "markdown",
   "metadata": {
    "slideshow": {
     "slide_type": "slide"
    }
   },
   "source": [
    "#### Let's sweep through driving frequencies to find a frequency response function"
   ]
  },
  {
   "cell_type": "code",
   "execution_count": 7,
   "metadata": {
    "hide_input": false,
    "scrolled": true,
    "slideshow": {
     "slide_type": "-"
    }
   },
   "outputs": [],
   "source": [
    "omegal = np.arange(3, .03, -1 / 200) + 1 / 200\n",
    "ampl = sp.zeros_like(omegal)\n",
    "ampl[:] = np.nan\n",
    "t, x, e, amps, phases = ms.hb_so(duff_osc_ss, num_variables=2,\n",
    "                                 omega=3, eqform='first_order', num_harmonics=1)\n",
    "for i, freq in enumerate(omegal):\n",
    "    # Here we try to obtain solutions, but if they don't work,\n",
    "    # we ignore them by inserting `np.nan` values.\n",
    "    x = x - np.average(x)\n",
    "    try:\n",
    "        t, x, e, amps, phases = ms.hb_so(duff_osc_ss, x0=x,\n",
    "                                         omega=freq, eqform='first_order', num_harmonics=1)  # , f_tol = 1e-6)#, callback = resid)\n",
    "        ampl[i] = amps[0]\n",
    "    except:\n",
    "        ampl[i] = np.nan\n",
    "    if np.isnan(ampl[i]):\n",
    "        break"
   ]
  },
  {
   "cell_type": "code",
   "execution_count": 8,
   "metadata": {
    "hide_input": true,
    "slideshow": {
     "slide_type": "slide"
    }
   },
   "outputs": [
    {
     "data": {
      "image/png": "[encoded data removed]",
      "text/plain": [
       "<matplotlib.figure.Figure at 0x112654160>"
      ]
     },
     "metadata": {},
     "output_type": "display_data"
    }
   ],
   "source": [
    "plt.plot(omega,amp, label='Up sweep')\n",
    "plt.plot(omegal,ampl, label='Down sweep')\n",
    "plt.legend()\n",
    "plt.title('Amplitude versus frequency for Duffing Oscillator')\n",
    "plt.xlabel('Driving frequency $\\\\omega$')\n",
    "plt.ylabel('Amplitude')\n",
    "plt.grid()"
   ]
  },
  {
   "cell_type": "markdown",
   "metadata": {
    "slideshow": {
     "slide_type": "slide"
    }
   },
   "source": [
    "### Two degree of freedom system\n",
    "\n",
    "$\n",
    "\\begin{bmatrix}\n",
    "1&0\\\\\n",
    "0&1\n",
    "\\end{bmatrix}\n",
    "\\begin{bmatrix}\n",
    "\\ddot{x}_1\\\\ \\ddot{x}_2\\end{bmatrix}\n",
    "+\n",
    "\\begin{bmatrix}\n",
    "2&-1 \\\\\n",
    "-1&2\n",
    "\\end{bmatrix}\n",
    "\\begin{bmatrix}\n",
    "{x}_1\\\\{x}_2\\end{bmatrix}\n",
    "+$ $\n",
    "\\begin{bmatrix}\n",
    "\\alpha x_{1}^{3}\\\\\n",
    "0\n",
    "\\end{bmatrix}\n",
    "$ $=\n",
    "\\begin{bmatrix}\n",
    "0 \\\\\n",
    "A \\sin(\\omega t)\n",
    "\\end{bmatrix}\n",
    "$"
   ]
  },
  {
   "cell_type": "code",
   "execution_count": 9,
   "metadata": {
    "collapsed": true,
    "slideshow": {
     "slide_type": "fragment"
    }
   },
   "outputs": [],
   "source": [
    "def two_dof_demo(x, params):\n",
    "    omega = params['omega']\n",
    "    t = params['cur_time']\n",
    "    force_amplitude = params['force_amplitude']\n",
    "    alpha = params['alpha']\n",
    "    # The following could call an external code to obtain the state derivatives\n",
    "    xd = np.array([[x[1]],\n",
    "                   [-2 * x[0] - alpha * x[0]**3 + x[2]],\n",
    "                   [x[3]],\n",
    "                   [-2 * x[2] + x[0]]] + force_amplitude * np.sin(omega * t))\n",
    "    return xd"
   ]
  },
  {
   "cell_type": "markdown",
   "metadata": {
    "slideshow": {
     "slide_type": "slide"
    }
   },
   "source": [
    "#### Let's find a response. "
   ]
  },
  {
   "cell_type": "code",
   "execution_count": 10,
   "metadata": {
    "scrolled": false,
    "slideshow": {
     "slide_type": "-"
    }
   },
   "outputs": [
    {
     "data": {
      "text/plain": [
       "array([ 0.86696762,  0.89484597,  0.99030411,  1.04097851])"
      ]
     },
     "execution_count": 10,
     "metadata": {},
     "output_type": "execute_result"
    }
   ],
   "source": [
    "parameters = {'force_amplitude': 0.2}\n",
    "parameters['alpha'] = 0.4\n",
    "t, x, e, amps, phases = ms.hb_so(two_dof_demo, num_variables=4,\n",
    "                                 omega=1.2, eqform='first_order', params=parameters)\n",
    "amps"
   ]
  },
  {
   "cell_type": "markdown",
   "metadata": {
    "slideshow": {
     "slide_type": "slide"
    }
   },
   "source": [
    "#### Or a parametric study of response amplitude versus nonlinearity."
   ]
  },
  {
   "cell_type": "code",
   "execution_count": 11,
   "metadata": {
    "slideshow": {
     "slide_type": "fragment"
    }
   },
   "outputs": [],
   "source": [
    "alpha = np.linspace(-1, .45, 2000)\n",
    "amp = np.zeros_like(alpha)\n",
    "for i, alphai in enumerate(alpha):\n",
    "    parameters['alpha'] = alphai\n",
    "    t, x, e, amps, phases = ms.hb_so(two_dof_demo, num_variables=4, omega=1.2,\n",
    "                                     eqform='first_order', params=parameters)\n",
    "    amp[i] = amps[0]"
   ]
  },
  {
   "cell_type": "code",
   "execution_count": 12,
   "metadata": {
    "hide_input": true,
    "scrolled": false,
    "slideshow": {
     "slide_type": "slide"
    }
   },
   "outputs": [
    {
     "data": {
      "image/png": "[encoded data removed]",
      "text/plain": [
       "<matplotlib.figure.Figure at 0x118404d68>"
      ]
     },
     "metadata": {},
     "output_type": "display_data"
    }
   ],
   "source": [
    "plt.plot(alpha,amp)\n",
    "plt.title('Amplitude of $x_1$ versus $\\\\alpha$')\n",
    "plt.ylabel('Amplitude of $x_1$')\n",
    "plt.xlabel('$\\\\alpha$')\n",
    "plt.grid()"
   ]
  },
  {
   "cell_type": "markdown",
   "metadata": {
    "slideshow": {
     "slide_type": "slide"
    }
   },
   "source": [
    "### Two degree of freedom system with Coulomb Damping\n",
    "\n",
    "$\n",
    "\\begin{bmatrix}\n",
    "1&0\\\\\n",
    "0&1\n",
    "\\end{bmatrix}\n",
    "\\begin{bmatrix}\n",
    "\\ddot{x}_1\\\\ \\ddot{x}_2\\end{bmatrix}\n",
    "+\n",
    "\\begin{bmatrix}\n",
    "2&-1 \\\\\n",
    "-1&2\n",
    "\\end{bmatrix}\n",
    "\\begin{bmatrix}\n",
    "{x}_1\\\\{x}_2\\end{bmatrix}\n",
    "+$ $\n",
    "\\begin{bmatrix}\n",
    "\\mu |\\dot{x}|_{1}\\\\\n",
    "0\n",
    "\\end{bmatrix}\n",
    "$ $=\n",
    "\\begin{bmatrix}\n",
    "0 \\\\\n",
    "A \\sin(\\omega t)\n",
    "\\end{bmatrix}\n",
    "$"
   ]
  },
  {
   "cell_type": "code",
   "execution_count": 13,
   "metadata": {
    "collapsed": true,
    "slideshow": {
     "slide_type": "fragment"
    }
   },
   "outputs": [],
   "source": [
    "def two_dof_coulomb(x, params):\n",
    "    omega = params['omega']\n",
    "    t = params['cur_time']\n",
    "    force_amplitude = params['force_amplitude']\n",
    "    mu = params['mu']\n",
    "    # The following could call an external code to obtain the state derivatives\n",
    "    xd = np.array([[x[1]],\n",
    "                   [-2 * x[0] - mu * np.abs(x[1]) + x[2]],\n",
    "                   [x[3]],\n",
    "                   [-2 * x[2] + x[0]]] + force_amplitude * np.sin(omega * t))\n",
    "    return xd"
   ]
  },
  {
   "cell_type": "code",
   "execution_count": 14,
   "metadata": {
    "slideshow": {
     "slide_type": "skip"
    }
   },
   "outputs": [
    {
     "data": {
      "text/plain": [
       "array([ 0.68916938,  0.68228249,  0.67299987,  0.66065012])"
      ]
     },
     "execution_count": 14,
     "metadata": {},
     "output_type": "execute_result"
    }
   ],
   "source": [
    "parameters = {'force_amplitude': 0.2}\n",
    "parameters['mu'] = 0.1\n",
    "t, x, e, amps, phases = ms.hb_so(two_dof_coulomb, num_variables=4,\n",
    "                                 omega=1.2, eqform='first_order', params=parameters)\n",
    "amps"
   ]
  },
  {
   "cell_type": "code",
   "execution_count": 31,
   "metadata": {
    "slideshow": {
     "slide_type": "slide"
    }
   },
   "outputs": [],
   "source": [
    "mu = np.linspace(0, 1.0, 200)\n",
    "amp = np.zeros_like(mu)\n",
    "for i, mui in enumerate(mu):\n",
    "    parameters['mu'] = mui\n",
    "    t, x, e, amps, phases = ms.hb_so(two_dof_coulomb, num_variables=4, omega=1.2,\n",
    "                                     eqform='first_order', num_harmonics=3, params=parameters)\n",
    "    amp[i] = amps[0]"
   ]
  },
  {
   "cell_type": "markdown",
   "metadata": {
    "slideshow": {
     "slide_type": "slide"
    }
   },
   "source": [
    "#### Too much Coulomb friction can increase the response. \n",
    "* Did you know that? \n",
    "* This damping shifted resonance. "
   ]
  },
  {
   "cell_type": "code",
   "execution_count": 32,
   "metadata": {
    "slideshow": {
     "slide_type": "-"
    }
   },
   "outputs": [
    {
     "data": {
      "image/png": "[encoded data removed]",
      "text/plain": [
       "<matplotlib.figure.Figure at 0x118404f98>"
      ]
     },
     "metadata": {},
     "output_type": "display_data"
    }
   ],
   "source": [
    "plt.plot(mu,amp)\n",
    "plt.title('Amplitude of $x_1$ versus $\\\\mu$')\n",
    "plt.ylabel('Amplitude of $x_1$')\n",
    "plt.xlabel('$\\\\mu$')\n",
    "plt.grid()"
   ]
  },
  {
   "cell_type": "markdown",
   "metadata": {
    "slideshow": {
     "slide_type": "slide"
    }
   },
   "source": [
    "### But can I solve an equation in one line? Yes!!!\n",
    "\n",
    "Damped Duffing oscillator in one command."
   ]
  },
  {
   "cell_type": "code",
   "execution_count": 25,
   "metadata": {
    "slideshow": {
     "slide_type": "-"
    }
   },
   "outputs": [
    {
     "data": {
      "text/plain": [
       "1.4779630014433971"
      ]
     },
     "execution_count": 25,
     "metadata": {},
     "output_type": "execute_result"
    }
   ],
   "source": [
    "out = ms.hb_so(lambda x, v,\n",
    "               params: np.array([[-x - .1 * x**3 - .1 * v + 1 *\n",
    "                                  sin(params['omega'] * params['cur_time'])]]),\n",
    "               num_variables=1, omega=.7, num_harmonics=1)\n",
    "out[3][0]"
   ]
  },
  {
   "cell_type": "markdown",
   "metadata": {
    "slideshow": {
     "slide_type": "-"
    }
   },
   "source": [
    "OK - that's a bit obtuse. I wouldn't do that normally, but Mousai can. "
   ]
  },
  {
   "cell_type": "markdown",
   "metadata": {
    "slideshow": {
     "slide_type": "slide"
    }
   },
   "source": [
    "## How to get this?\n",
    "\n",
    "* Install Scientific Python from [SciPy.org](https://www.scipy.org/install.html)\n",
    "    * AFRL: See your tech support to get the Enthought distribution installed\n",
    "* See the Mousai [documents for](https://josephcslater.github.io/mousai/index.html) installation instructions\n",
    "    * `pip install mousai`\n",
    "    * AFRL: Talk to me- install is easy if I send you the files.\n",
    "* See [Mousai on GitHub](https://github.com/josephcslater/mousai) (https://github.com/josephcslater/mousai)\n"
   ]
  },
  {
   "cell_type": "markdown",
   "metadata": {
    "slideshow": {
     "slide_type": "slide"
    }
   },
   "source": [
    "## Conclusions\n",
    "\n",
    "* Nonlinear frequency solutions are within reach of undergraduates\n",
    "* Installation is trivial\n",
    "* Already in use (GitHub logs indicate dozens of users)\n",
    "* Custom special case and proprietary solvers such as BDamper can be replaced for free\n",
    "* Research potential is about to be unleashed"
   ]
  },
  {
   "cell_type": "markdown",
   "metadata": {
    "slideshow": {
     "slide_type": "slide"
    }
   },
   "source": [
    "## Future\n",
    "\n",
    "* Add time-averaging method\n",
    "    * currently requires high number of harmonics for non-smooth systems\n",
    "* Add masking of known harmonics (average is often fixed and known)\n",
    "* Condense the one-line method\n",
    "* Evaluate on large scale problems\n",
    "    * Currently attempting to hook to ANSYS\n",
    "* Parallelize \n",
    "* Leverage CUDA"
   ]
  },
  {
   "cell_type": "code",
   "execution_count": null,
   "metadata": {
    "collapsed": true
   },
   "outputs": [],
   "source": []
  }
 ],
 "metadata": {
  "celltoolbar": "Slideshow",
  "hide_input": false,
  "kernelspec": {
   "display_name": "Python 3",
   "language": "python",
   "name": "python3"
  },
  "language_info": {
   "codemirror_mode": {
    "name": "ipython",
    "version": 3
   },
   "file_extension": ".py",
   "mimetype": "text/x-python",
   "name": "python",
   "nbconvert_exporter": "python",
   "pygments_lexer": "ipython3",
   "version": "3.6.2"
  },
  "toc": {
   "nav_menu": {},
   "number_sections": false,
   "sideBar": true,
   "skip_h1_title": false,
   "toc_cell": false,
   "toc_position": {
    "height": "646px",
    "left": "0px",
    "right": "1145px",
    "top": "90px",
    "width": "197px"
   },
   "toc_section_display": "block",
   "toc_window_display": true
  },
  "varInspector": {
   "cols": {
    "lenName": 16,
    "lenType": 16,
    "lenVar": 40
   },
   "kernels_config": {
    "python": {
     "delete_cmd_postfix": "",
     "delete_cmd_prefix": "del ",
     "library": "var_list.py",
     "varRefreshCmd": "print(var_dic_list())"
    },
    "r": {
     "delete_cmd_postfix": ") ",
     "delete_cmd_prefix": "rm(",
     "library": "var_list.r",
     "varRefreshCmd": "cat(var_dic_list()) "
    }
   },
   "position": {
    "height": "444px",
    "left": "890px",
    "right": "20px",
    "top": "120px",
    "width": "388px"
   },
   "types_to_exclude": [
    "module",
    "function",
    "builtin_function_or_method",
    "instance",
    "_Feature"
   ],
   "window_display": false
  }
 },
 "nbformat": 4,
 "nbformat_minor": 2
}

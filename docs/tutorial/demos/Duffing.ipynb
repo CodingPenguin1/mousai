{
 "cells": [
  {
   "cell_type": "markdown",
   "metadata": {},
   "source": [
    "# Duffing Oscillator Solution"
   ]
  },
  {
   "cell_type": "code",
   "execution_count": 1,
   "metadata": {
    "collapsed": true
   },
   "outputs": [],
   "source": [
    "%matplotlib inline\n",
    "%load_ext autoreload\n",
    "%autoreload 2\n",
    "import scipy as sp\n",
    "import matplotlib.pyplot as plt\n",
    "import mousai as ms\n",
    "from scipy import pi, sin"
   ]
  },
  {
   "cell_type": "code",
   "execution_count": 2,
   "metadata": {},
   "outputs": [
    {
     "data": {
      "text/plain": [
       "array([[-0.34996508,  1.36054018, -1.11828552]])"
      ]
     },
     "execution_count": 2,
     "metadata": {},
     "output_type": "execute_result"
    }
   ],
   "source": [
    "# Test that all is working.\n",
    "t, x, e, amps, phases = ms.hb_so(ms.duff_osc, sp.array([[0,1,-1]]), .7)\n",
    "x"
   ]
  },
  {
   "cell_type": "code",
   "execution_count": 3,
   "metadata": {},
   "outputs": [
    {
     "name": "stdout",
     "output_type": "stream",
     "text": [
      "[[-0.34850556  0.98635512  1.41526032  0.95129854 -0.40091298 -1.31613416\n",
      "  -1.29636388]]\n",
      "[[-0.00900260+0.j         -1.05973076-5.0343169j  -0.02567193+0.01682272j\n",
      "  -0.12986547-0.17325323j -0.12986547+0.17325323j -0.02567193-0.01682272j\n",
      "  -1.05973076+5.0343169j ]]\n"
     ]
    }
   ],
   "source": [
    "t, x, e, amps, phases = ms.hb_so(ms.duff_osc, sp.array([[0,1,-1,0,0,0,0]]), .7, f_tol = 1e-10)\n",
    "print(x)\n",
    "print(sp.fftpack.fft(x))\n"
   ]
  },
  {
   "cell_type": "code",
   "execution_count": 4,
   "metadata": {},
   "outputs": [
    {
     "data": {
      "text/plain": [
       "7"
      ]
     },
     "execution_count": 4,
     "metadata": {},
     "output_type": "execute_result"
    }
   ],
   "source": [
    "x.shape[1]"
   ]
  },
  {
   "cell_type": "code",
   "execution_count": 5,
   "metadata": {},
   "outputs": [
    {
     "data": {
      "text/plain": [
       "array([[-0.00900260+0.j        , -1.05973076-5.0343169j ,\n",
       "        -0.02567193+0.01682272j, -0.12986547-0.17325323j,\n",
       "        -0.12986547+0.17325323j, -0.02567193-0.01682272j,\n",
       "        -1.05973076+5.0343169j ]])"
      ]
     },
     "execution_count": 5,
     "metadata": {},
     "output_type": "execute_result"
    }
   ],
   "source": [
    "sp.fftpack.fft(x)"
   ]
  },
  {
   "cell_type": "code",
   "execution_count": 6,
   "metadata": {},
   "outputs": [
    {
     "data": {
      "text/plain": [
       "[<matplotlib.lines.Line2D at 0x111c62550>]"
      ]
     },
     "execution_count": 6,
     "metadata": {},
     "output_type": "execute_result"
    },
    {
     "data": {
      "image/png": "[encoded data removed]",
      "text/plain": [
       "<matplotlib.figure.Figure at 0x10847b2e8>"
      ]
     },
     "metadata": {},
     "output_type": "display_data"
    }
   ],
   "source": [
    "plt.plot(t,sin(0.7*t))"
   ]
  },
  {
   "cell_type": "code",
   "execution_count": 7,
   "metadata": {
    "collapsed": true
   },
   "outputs": [],
   "source": [
    "def duff_osc2(x, v, params):\n",
    "    omega = params['omega']\n",
    "    t = params['cur_time']\n",
    "    return -x-.1*x**3-.01*v+1*sin(omega*t)"
   ]
  },
  {
   "cell_type": "code",
   "execution_count": 8,
   "metadata": {
    "scrolled": true
   },
   "outputs": [
    {
     "data": {
      "text/plain": [
       "[<matplotlib.lines.Line2D at 0x113dea5f8>]"
      ]
     },
     "execution_count": 8,
     "metadata": {},
     "output_type": "execute_result"
    },
    {
     "data": {
      "image/png": "[encoded data removed]",
      "text/plain": [
       "<matplotlib.figure.Figure at 0x111c740b8>"
      ]
     },
     "metadata": {},
     "output_type": "display_data"
    }
   ],
   "source": [
    "omega = sp.linspace(0.1,3,200)+1/200\n",
    "amp = sp.zeros_like(omega)\n",
    "x = sp.array([[0,-1,1,0,0]])\n",
    "for i, freq in enumerate(omega):\n",
    "    #print(i,freq,x)\n",
    "    try:\n",
    "        t, x, e, amps, phases = ms.hb_so(duff_osc2, x, freq)#, f_tol = 1e-10)#, callback = resid)\n",
    "        amp[i]=amps[0]\n",
    "    except:\n",
    "        amp[i] = sp.nan    \n",
    "plt.plot(omega, amp)"
   ]
  },
  {
   "cell_type": "markdown",
   "metadata": {},
   "source": [
    "The break is an indicative of a break in the branch and is actually a result of the `solution` being unstable.  Not the system, but the solution. By that we mean that while this is considered a solution, it isn't one that will actually continue in a real situation and another solution will necessarily be found. \n",
    "\n",
    "A simple solution is to change the starting guess to be away from the solution and see if it finds another one. Indeed that happens. \n",
    "\n"
   ]
  },
  {
   "cell_type": "code",
   "execution_count": 9,
   "metadata": {
    "scrolled": true
   },
   "outputs": [
    {
     "data": {
      "text/plain": [
       "[<matplotlib.lines.Line2D at 0x113ee8320>]"
      ]
     },
     "execution_count": 9,
     "metadata": {},
     "output_type": "execute_result"
    },
    {
     "data": {
      "image/png": "[encoded data removed]",
      "text/plain": [
       "<matplotlib.figure.Figure at 0x111c74ba8>"
      ]
     },
     "metadata": {},
     "output_type": "display_data"
    }
   ],
   "source": [
    "omega = sp.linspace(0.1,3,90)+1/200\n",
    "amp = sp.zeros_like(omega)\n",
    "x = sp.array([[0,-1,1,0,0,0,0,0,0]])\n",
    "for i, freq in enumerate(omega):\n",
    "    #print(i,freq,x)\n",
    "    #print(sp.average(x))\n",
    "    x = x-sp.average(x)\n",
    "    try:\n",
    "        t, x, e, amps, phases = ms.hb_so(duff_osc2, x, freq, verbose = False, f_tol = 1e-6)#, callback = resid)\n",
    "        amp[i]=amps[0]\n",
    "    except:\n",
    "        amp[i] = sp.nan    \n",
    "plt.plot(omega, amp)"
   ]
  },
  {
   "cell_type": "code",
   "execution_count": 10,
   "metadata": {},
   "outputs": [
    {
     "data": {
      "text/plain": [
       "[<matplotlib.lines.Line2D at 0x113fcc198>]"
      ]
     },
     "execution_count": 10,
     "metadata": {},
     "output_type": "execute_result"
    },
    {
     "data": {
      "image/png": "[encoded data removed]",
      "text/plain": [
       "<matplotlib.figure.Figure at 0x111c880b8>"
      ]
     },
     "metadata": {},
     "output_type": "display_data"
    }
   ],
   "source": [
    "plt.plot(x.T,'*')"
   ]
  },
  {
   "cell_type": "code",
   "execution_count": 11,
   "metadata": {},
   "outputs": [
    {
     "data": {
      "text/plain": [
       "[<matplotlib.lines.Line2D at 0x1140d2240>]"
      ]
     },
     "execution_count": 11,
     "metadata": {},
     "output_type": "execute_result"
    },
    {
     "data": {
      "image/png": "[encoded data removed]",
      "text/plain": [
       "<matplotlib.figure.Figure at 0x113f050b8>"
      ]
     },
     "metadata": {},
     "output_type": "display_data"
    }
   ],
   "source": [
    "omegal = sp.arange(3,.03,-1/200)+1/200\n",
    "ampl = sp.zeros_like(omegal)\n",
    "x = sp.array([[0,-1,1,0,0,0,0]])\n",
    "for i, freq in enumerate(omegal):\n",
    "    # Here we try to obtain solutions, but if they don't work, \n",
    "    # we ignore them by inserting `np.nan` values.\n",
    "    x = x-sp.average(x)\n",
    "    try:\n",
    "        t, x, e, amps, phases = ms.hb_so(duff_osc2, x, freq, f_tol = 1e-6)#, callback = resid)\n",
    "        ampl[i]=amps[0]\n",
    "    except:\n",
    "        ampl[i] = sp.nan\n",
    "plt.plot(omegal, ampl)"
   ]
  },
  {
   "cell_type": "code",
   "execution_count": 12,
   "metadata": {},
   "outputs": [
    {
     "data": {
      "text/plain": [
       "array([[ -3.77917168e-04,   7.41933175e-01,   9.02875609e-01,\n",
       "          4.27087719e-01,  -4.26443181e-01,  -9.02742742e-01,\n",
       "         -7.42334120e-01]])"
      ]
     },
     "execution_count": 12,
     "metadata": {},
     "output_type": "execute_result"
    }
   ],
   "source": [
    "x"
   ]
  },
  {
   "cell_type": "code",
   "execution_count": 13,
   "metadata": {},
   "outputs": [
    {
     "data": {
      "text/plain": [
       "array([[ -1.45712276e-06+0.j        ,  -1.23817644e-03-3.29112781j,\n",
       "         -6.54449857e-06+0.00369216j,  -7.72605884e-05-0.06444127j,\n",
       "         -7.72605884e-05+0.06444127j,  -6.54449857e-06-0.00369216j,\n",
       "         -1.23817644e-03+3.29112781j]])"
      ]
     },
     "execution_count": 13,
     "metadata": {},
     "output_type": "execute_result"
    }
   ],
   "source": [
    "sp.fftpack.fft(x)"
   ]
  },
  {
   "cell_type": "code",
   "execution_count": 14,
   "metadata": {},
   "outputs": [
    {
     "data": {
      "text/plain": [
       "[<matplotlib.lines.Line2D at 0x1141dc5f8>]"
      ]
     },
     "execution_count": 14,
     "metadata": {},
     "output_type": "execute_result"
    },
    {
     "data": {
      "image/png": "[encoded data removed]",
      "text/plain": [
       "<matplotlib.figure.Figure at 0x113feaa90>"
      ]
     },
     "metadata": {},
     "output_type": "display_data"
    }
   ],
   "source": [
    "plt.plot(x.T)"
   ]
  },
  {
   "cell_type": "code",
   "execution_count": 15,
   "metadata": {},
   "outputs": [
    {
     "data": {
      "text/plain": [
       "[<matplotlib.lines.Line2D at 0x11420e208>]"
      ]
     },
     "execution_count": 15,
     "metadata": {},
     "output_type": "execute_result"
    },
    {
     "data": {
      "image/png": "[encoded data removed]",
      "text/plain": [
       "<matplotlib.figure.Figure at 0x11420e128>"
      ]
     },
     "metadata": {},
     "output_type": "display_data"
    }
   ],
   "source": [
    "plt.plot(omegal,ampl)\n",
    "plt.plot(omega,amp)\n",
    "#plt.axis([0,3, 0, 10.5])"
   ]
  },
  {
   "cell_type": "code",
   "execution_count": 16,
   "metadata": {
    "collapsed": true
   },
   "outputs": [],
   "source": [
    "from scipy.optimize import newton_krylov"
   ]
  },
  {
   "cell_type": "code",
   "execution_count": 18,
   "metadata": {
    "collapsed": true
   },
   "outputs": [],
   "source": [
    "def duff_amp_resid(a):\n",
    "    return (mu**2+(sigma-3/8*alpha/omega_0*a**2)**2)*a**2-(k**2)/4/omega_0**2"
   ]
  },
  {
   "cell_type": "code",
   "execution_count": 60,
   "metadata": {
    "collapsed": true
   },
   "outputs": [],
   "source": [
    "mu = 0.05 # damping\n",
    "k = 1 # excitation amplitude\n",
    "sigma = -0.9 #detuning\n",
    "omega_0 = 1 # driving frequency\n",
    "alpha = 0.1 # cubic coefficient"
   ]
  },
  {
   "cell_type": "code",
   "execution_count": 61,
   "metadata": {},
   "outputs": [
    {
     "data": {
      "text/plain": [
       "array(-0.5478691201747141)"
      ]
     },
     "execution_count": 61,
     "metadata": {},
     "output_type": "execute_result"
    }
   ],
   "source": [
    "newton_krylov(duff_amp_resid,-.1)"
   ]
  },
  {
   "cell_type": "code",
   "execution_count": 82,
   "metadata": {},
   "outputs": [
    {
     "data": {
      "text/plain": [
       "[<matplotlib.lines.Line2D at 0x115921438>]"
      ]
     },
     "execution_count": 82,
     "metadata": {},
     "output_type": "execute_result"
    },
    {
     "data": {
      "image/png": "[encoded data removed]",
      "text/plain": [
       "<matplotlib.figure.Figure at 0x1156e7908>"
      ]
     },
     "metadata": {},
     "output_type": "display_data"
    }
   ],
   "source": [
    "sigmas = sp.linspace(-1,3,200)\n",
    "amplitudes = sp.zeros_like(aa)\n",
    "x = newton_krylov(duff_amp_resid,1)\n",
    "for i, sigma in enumerate(sigmas):\n",
    "    try:\n",
    "        amplitudes[i] = newton_krylov(duff_amp_resid,x)\n",
    "        x = amplitudes[i]\n",
    "    except:\n",
    "        amplitudes[i] = newton_krylov(duff_amp_resid,0)\n",
    "        x = amplitudes[i]\n",
    "\n",
    "plt.plot(sigmas,amplitudes)"
   ]
  },
  {
   "cell_type": "code",
   "execution_count": 88,
   "metadata": {},
   "outputs": [
    {
     "data": {
      "text/plain": [
       "[<matplotlib.lines.Line2D at 0x11529b4e0>]"
      ]
     },
     "execution_count": 88,
     "metadata": {},
     "output_type": "execute_result"
    },
    {
     "data": {
      "image/png": "[encoded data removed]",
      "text/plain": [
       "<matplotlib.figure.Figure at 0x114de77f0>"
      ]
     },
     "metadata": {},
     "output_type": "display_data"
    }
   ],
   "source": [
    "sigmas = sp.linspace(-1,3,200)\n",
    "sigmasr = sigmas[::-1]\n",
    "amplitudesr = sp.zeros_like(sigmas)\n",
    "x = newton_krylov(duff_amp_resid,3)\n",
    "for i, sigma in enumerate(sigmasr):\n",
    "    try:\n",
    "        amplitudesr[i] = newton_krylov(duff_amp_resid,x)\n",
    "        x = amplitudesr[i]\n",
    "    except:\n",
    "        amplitudesr[i] = sp.nan#newton_krylov(duff_amp_resid,0)\n",
    "        x = amplitudesr[i]\n",
    "        \n",
    "\n",
    "plt.plot(sigmasr,amplitudesr)"
   ]
  },
  {
   "cell_type": "code",
   "execution_count": 89,
   "metadata": {},
   "outputs": [
    {
     "data": {
      "text/plain": [
       "[<matplotlib.lines.Line2D at 0x11573e898>]"
      ]
     },
     "execution_count": 89,
     "metadata": {},
     "output_type": "execute_result"
    },
    {
     "data": {
      "image/png": "[encoded data removed]",
      "text/plain": [
       "<matplotlib.figure.Figure at 0x1158d0cf8>"
      ]
     },
     "metadata": {},
     "output_type": "display_data"
    }
   ],
   "source": [
    "plt.plot(sigmasr,amplitudesr)\n",
    "plt.plot(sigmas,amplitudes)"
   ]
  },
  {
   "cell_type": "code",
   "execution_count": null,
   "metadata": {
    "collapsed": true
   },
   "outputs": [],
   "source": []
  }
 ],
 "metadata": {
  "hide_input": false,
  "kernelspec": {
   "display_name": "Python 3",
   "language": "python",
   "name": "python3"
  },
  "language_info": {
   "codemirror_mode": {
    "name": "ipython",
    "version": 3
   },
   "file_extension": ".py",
   "mimetype": "text/x-python",
   "name": "python",
   "nbconvert_exporter": "python",
   "pygments_lexer": "ipython3",
   "version": "3.6.1"
  }
 },
 "nbformat": 4,
 "nbformat_minor": 2
}

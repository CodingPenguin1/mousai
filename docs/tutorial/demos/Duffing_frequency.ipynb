{
 "cells": [
  {
   "cell_type": "markdown",
   "metadata": {},
   "source": [
    "# Duffing Oscillator Solution Using Frequency Domain Residuals"
   ]
  },
  {
   "cell_type": "markdown",
   "metadata": {},
   "source": [
    "This notebook uses the newer solver. This solver minimizes frequency domain error. `hb_freq` can also ignore the constant term ($\\omega = 0$) in the solution process. The error in Fourier Series of the state-equation calculated state derivative as compared to that obtained by taking the derivative of the input state. Any variety of time points may be used to ensure substantial averaging over a single cycle. "
   ]
  },
  {
   "cell_type": "code",
   "execution_count": 100,
   "metadata": {
    "init_cell": true
   },
   "outputs": [
    {
     "name": "stdout",
     "output_type": "stream",
     "text": [
      "The autoreload extension is already loaded. To reload it, use:\n",
      "  %reload_ext autoreload\n"
     ]
    }
   ],
   "source": [
    "%matplotlib inline\n",
    "%load_ext autoreload\n",
    "%autoreload 2\n",
    "import scipy as sp\n",
    "import numpy as np\n",
    "import matplotlib.pyplot as plt\n",
    "import mousai as ms\n",
    "from scipy import pi, sin"
   ]
  },
  {
   "cell_type": "code",
   "execution_count": 101,
   "metadata": {},
   "outputs": [
    {
     "name": "stdout",
     "output_type": "stream",
     "text": [
      "Equation errors (should be zero):  [[3.31477797e-15 1.09027241e-14]]\n",
      "Constant term of FFT of signal should be zero:  (-1.6653345369377348e-16+0j)\n"
     ]
    }
   ],
   "source": [
    "# Test that all is working. \n",
    "# f_tol adjusts accuracy. This is smaller than reasonable, but illustrative of usage. \n",
    "t, x, e, amps, phases = ms.hb_freq(ms.duff_osc, np.array([[0,1,-1]]), omega = .7, f_tol = 1e-8)\n",
    "print('Equation errors (should be zero): ', e)\n",
    "print('Constant term of FFT of signal should be zero: ', ms.fftp.fft(x)[0,0])"
   ]
  },
  {
   "cell_type": "code",
   "execution_count": 102,
   "metadata": {
    "scrolled": true
   },
   "outputs": [
    {
     "name": "stdout",
     "output_type": "stream",
     "text": [
      "Equation errors (should be zero):  [[-7.46635675e-07  1.43600922e-06]]\n",
      "Constant term of FFT of signal should be zero:  (8.326672684688674e-17+0j)\n"
     ]
    }
   ],
   "source": [
    "# Using more harmonics. \n",
    "t, x, e, amps, phases = ms.hb_freq(ms.duff_osc, x0 = np.array([[0,1,-1]]), omega = .1, num_harmonics= 1)\n",
    "print('Equation errors (should be zero): ', e)\n",
    "print('Constant term of FFT of signal should be zero: ', ms.fftp.fft(x)[0,0])"
   ]
  },
  {
   "cell_type": "code",
   "execution_count": 103,
   "metadata": {},
   "outputs": [
    {
     "data": {
      "text/plain": [
       "array([[7.46635675e-07, 1.43600922e-06]])"
      ]
     },
     "execution_count": 103,
     "metadata": {},
     "output_type": "execute_result"
    }
   ],
   "source": [
    "np.abs(e)"
   ]
  },
  {
   "cell_type": "markdown",
   "metadata": {},
   "source": [
    "Sometimes we can improve just by restarting from the prior end point. Sometimes, we just think it's improved. "
   ]
  },
  {
   "cell_type": "code",
   "execution_count": 104,
   "metadata": {},
   "outputs": [
    {
     "name": "stdout",
     "output_type": "stream",
     "text": [
      "Errors:  [[ 2.58053387e-08 -1.57420453e-07  4.03435235e-11  4.58437185e-12\n",
      "  -6.59875968e-09  2.08141165e-09  4.97125418e-11 -1.13236714e-10\n",
      "  -4.00440922e-10 -6.77031226e-08 -7.71574752e-11  1.07091196e-10\n",
      "   5.28102872e-08  7.21072898e-08]]\n",
      "Constant term of FFT of signal should be zero:  (-2.463307335887066e-16+0j)\n"
     ]
    }
   ],
   "source": [
    "t, x, e, amps, phases = ms.hb_freq(ms.duff_osc, x0 = x, omega = 0.1, num_harmonics= 7)\n",
    "print('Errors: ', e)\n",
    "print('Constant term of FFT of signal should be zero: ', ms.fftp.fft(x)[0,0])"
   ]
  },
  {
   "cell_type": "code",
   "execution_count": 105,
   "metadata": {},
   "outputs": [
    {
     "name": "stdout",
     "output_type": "stream",
     "text": [
      "The average for this problem is known to be zero, we got -7.401486830834377e-18\n"
     ]
    },
    {
     "data": {
      "image/png": "[encoded data removed]",
      "text/plain": [
       "<Figure size 432x288 with 1 Axes>"
      ]
     },
     "metadata": {
      "needs_background": "light"
     },
     "output_type": "display_data"
    }
   ],
   "source": [
    "# Let's get a smoother response\n",
    "time, xc = ms.time_history(t,x)\n",
    "plt.plot(time,xc.T,t,x.T,'*')\n",
    "plt.grid(True)\n",
    "print('The average for this problem is known to be zero, we got', sp.average(x))"
   ]
  },
  {
   "cell_type": "code",
   "execution_count": 106,
   "metadata": {},
   "outputs": [],
   "source": [
    "def duff_osc2(x, v, params):\n",
    "    omega = params['omega']\n",
    "    t = params['cur_time']\n",
    "    return np.array([[-x-.01*x**3-.01*v+1*sin(omega*t)]])"
   ]
  },
  {
   "cell_type": "code",
   "execution_count": 107,
   "metadata": {
    "scrolled": false
   },
   "outputs": [
    {
     "name": "stdout",
     "output_type": "stream",
     "text": [
      "[2.46438843] [[-0.04816055  0.95031796  1.79345444  2.33265262  2.4632571   2.15851606\n",
      "   1.48008193  0.5547736  -0.46041308 -1.40119713 -2.10905762 -2.45282919\n",
      "  -2.36338798 -1.85917961 -1.03882854]] [[ 7.58880069e-08 -4.92394640e-06 -5.12492802e-10  4.55729522e-10\n",
      "  -1.59320950e-07 -2.24039161e-06  8.99241320e-09  8.21786790e-09\n",
      "   1.80846194e-08  1.12039572e-07  3.36844695e-08  2.86271689e-09\n",
      "   2.37337183e-07  6.55548378e-08]]\n",
      "Constant term of FFT of signal should be zero:  (3.3306690738754696e-16+0j)\n"
     ]
    },
    {
     "data": {
      "image/png": "[encoded data removed]",
      "text/plain": [
       "<Figure size 432x288 with 1 Axes>"
      ]
     },
     "metadata": {
      "needs_background": "light"
     },
     "output_type": "display_data"
    }
   ],
   "source": [
    "t, x, e, amps, phases = ms.hb_freq(duff_osc2, np.array([[0,1,-1]]), omega = 0.8, num_harmonics=7)\n",
    "\n",
    "print(amps, x, e)\n",
    "print('Constant term of FFT of signal should be zero: ', ms.fftp.fft(x)[0,0])\n",
    "time, xc = ms.time_history(t,x)\n",
    "\n",
    "plt.plot(time, xc.T, t, x.T, '*')\n",
    "plt.grid(True)"
   ]
  },
  {
   "cell_type": "code",
   "execution_count": 108,
   "metadata": {
    "scrolled": true
   },
   "outputs": [
    {
     "name": "stdout",
     "output_type": "stream",
     "text": [
      "Excepted- search failed for omega = 0.1050 rad/s.\n",
      "What ever error this is, please put into har_bal\n",
      "               after the excepts (2 of them)\n",
      "True\n",
      "Excepted- search failed for omega = 0.1196 rad/s.\n",
      "What ever error this is, please put into har_bal\n",
      "               after the excepts (2 of them)\n",
      "True\n",
      "Excepted- search failed for omega = 0.1341 rad/s.\n",
      "What ever error this is, please put into har_bal\n",
      "               after the excepts (2 of them)\n",
      "True\n",
      "Excepted- search failed for omega = 0.1487 rad/s.\n",
      "What ever error this is, please put into har_bal\n",
      "               after the excepts (2 of them)\n",
      "True\n",
      "Excepted- search failed for omega = 0.1633 rad/s.\n",
      "What ever error this is, please put into har_bal\n",
      "               after the excepts (2 of them)\n",
      "True\n",
      "Excepted- search failed for omega = 0.1779 rad/s.\n",
      "What ever error this is, please put into har_bal\n",
      "               after the excepts (2 of them)\n",
      "True\n",
      "Excepted- search failed for omega = 0.1924 rad/s.\n",
      "What ever error this is, please put into har_bal\n",
      "               after the excepts (2 of them)\n",
      "True\n",
      "Excepted- search failed for omega = 0.2070 rad/s.\n",
      "What ever error this is, please put into har_bal\n",
      "               after the excepts (2 of them)\n",
      "True\n",
      "Excepted- search failed for omega = 0.2216 rad/s.\n",
      "What ever error this is, please put into har_bal\n",
      "               after the excepts (2 of them)\n",
      "True\n",
      "Excepted- search failed for omega = 0.2362 rad/s.\n",
      "What ever error this is, please put into har_bal\n",
      "               after the excepts (2 of them)\n",
      "True\n",
      "Excepted- search failed for omega = 0.2507 rad/s.\n",
      "What ever error this is, please put into har_bal\n",
      "               after the excepts (2 of them)\n",
      "True\n",
      "Excepted- search failed for omega = 0.2653 rad/s.\n",
      "What ever error this is, please put into har_bal\n",
      "               after the excepts (2 of them)\n",
      "True\n",
      "Excepted- search failed for omega = 0.2799 rad/s.\n",
      "What ever error this is, please put into har_bal\n",
      "               after the excepts (2 of them)\n",
      "True\n",
      "Excepted- search failed for omega = 0.2944 rad/s.\n",
      "What ever error this is, please put into har_bal\n",
      "               after the excepts (2 of them)\n",
      "True\n",
      "Excepted- search failed for omega = 0.3090 rad/s.\n",
      "What ever error this is, please put into har_bal\n",
      "               after the excepts (2 of them)\n",
      "True\n",
      "Excepted- search failed for omega = 0.3236 rad/s.\n",
      "What ever error this is, please put into har_bal\n",
      "               after the excepts (2 of them)\n",
      "True\n",
      "Excepted- search failed for omega = 0.3382 rad/s.\n",
      "What ever error this is, please put into har_bal\n",
      "               after the excepts (2 of them)\n",
      "True\n",
      "Excepted- search failed for omega = 0.3527 rad/s.\n",
      "What ever error this is, please put into har_bal\n",
      "               after the excepts (2 of them)\n",
      "True\n",
      "Excepted- search failed for omega = 0.3673 rad/s.\n",
      "What ever error this is, please put into har_bal\n",
      "               after the excepts (2 of them)\n",
      "True\n",
      "Excepted- search failed for omega = 0.3819 rad/s.\n",
      "What ever error this is, please put into har_bal\n",
      "               after the excepts (2 of them)\n",
      "True\n",
      "Excepted- search failed for omega = 0.3965 rad/s.\n",
      "What ever error this is, please put into har_bal\n",
      "               after the excepts (2 of them)\n",
      "True\n",
      "Excepted- search failed for omega = 0.4110 rad/s.\n",
      "What ever error this is, please put into har_bal\n",
      "               after the excepts (2 of them)\n",
      "True\n",
      "Excepted- search failed for omega = 0.4256 rad/s.\n",
      "What ever error this is, please put into har_bal\n",
      "               after the excepts (2 of them)\n",
      "True\n",
      "Excepted- search failed for omega = 0.4402 rad/s.\n",
      "What ever error this is, please put into har_bal\n",
      "               after the excepts (2 of them)\n",
      "True\n",
      "Excepted- search failed for omega = 0.4547 rad/s.\n",
      "What ever error this is, please put into har_bal\n",
      "               after the excepts (2 of them)\n",
      "True\n",
      "Excepted- search failed for omega = 0.4693 rad/s.\n",
      "What ever error this is, please put into har_bal\n",
      "               after the excepts (2 of them)\n",
      "True\n",
      "Excepted- search failed for omega = 0.4839 rad/s.\n",
      "What ever error this is, please put into har_bal\n",
      "               after the excepts (2 of them)\n",
      "True\n",
      "Excepted- search failed for omega = 0.4985 rad/s.\n",
      "What ever error this is, please put into har_bal\n",
      "               after the excepts (2 of them)\n",
      "True\n",
      "Excepted- search failed for omega = 0.5130 rad/s.\n",
      "What ever error this is, please put into har_bal\n",
      "               after the excepts (2 of them)\n",
      "True\n",
      "Excepted- search failed for omega = 0.5276 rad/s.\n",
      "What ever error this is, please put into har_bal\n",
      "               after the excepts (2 of them)\n",
      "True\n",
      "Excepted- search failed for omega = 0.5422 rad/s.\n",
      "What ever error this is, please put into har_bal\n",
      "               after the excepts (2 of them)\n",
      "True\n",
      "Excepted- search failed for omega = 0.5568 rad/s.\n",
      "What ever error this is, please put into har_bal\n",
      "               after the excepts (2 of them)\n",
      "True\n",
      "Excepted- search failed for omega = 0.5713 rad/s.\n",
      "What ever error this is, please put into har_bal\n",
      "               after the excepts (2 of them)\n",
      "True\n",
      "Excepted- search failed for omega = 0.5859 rad/s.\n",
      "What ever error this is, please put into har_bal\n",
      "               after the excepts (2 of them)\n",
      "True\n",
      "Excepted- search failed for omega = 0.6005 rad/s.\n",
      "What ever error this is, please put into har_bal\n",
      "               after the excepts (2 of them)\n",
      "True\n",
      "Excepted- search failed for omega = 0.6151 rad/s.\n",
      "What ever error this is, please put into har_bal\n",
      "               after the excepts (2 of them)\n",
      "True\n",
      "Excepted- search failed for omega = 0.6296 rad/s.\n",
      "What ever error this is, please put into har_bal\n",
      "               after the excepts (2 of them)\n",
      "True\n",
      "Excepted- search failed for omega = 0.6442 rad/s.\n",
      "What ever error this is, please put into har_bal\n",
      "               after the excepts (2 of them)\n",
      "True\n",
      "Excepted- search failed for omega = 0.6588 rad/s.\n",
      "What ever error this is, please put into har_bal\n",
      "               after the excepts (2 of them)\n",
      "True\n",
      "Excepted- search failed for omega = 0.6733 rad/s.\n",
      "What ever error this is, please put into har_bal\n",
      "               after the excepts (2 of them)\n",
      "True\n",
      "Excepted- search failed for omega = 0.6879 rad/s.\n",
      "What ever error this is, please put into har_bal\n",
      "               after the excepts (2 of them)\n",
      "True\n",
      "Excepted- search failed for omega = 0.7025 rad/s.\n",
      "What ever error this is, please put into har_bal\n",
      "               after the excepts (2 of them)\n",
      "True\n",
      "Excepted- search failed for omega = 0.7171 rad/s.\n",
      "What ever error this is, please put into har_bal\n",
      "               after the excepts (2 of them)\n",
      "True\n",
      "Excepted- search failed for omega = 0.7316 rad/s.\n",
      "What ever error this is, please put into har_bal\n",
      "               after the excepts (2 of them)\n",
      "True\n",
      "Excepted- search failed for omega = 0.7462 rad/s.\n",
      "What ever error this is, please put into har_bal\n",
      "               after the excepts (2 of them)\n",
      "True\n",
      "Excepted- search failed for omega = 0.7608 rad/s.\n",
      "What ever error this is, please put into har_bal\n",
      "               after the excepts (2 of them)\n",
      "True\n",
      "Excepted- search failed for omega = 0.7754 rad/s.\n",
      "What ever error this is, please put into har_bal\n",
      "               after the excepts (2 of them)\n",
      "True\n",
      "Excepted- search failed for omega = 0.7899 rad/s.\n",
      "What ever error this is, please put into har_bal\n",
      "               after the excepts (2 of them)\n",
      "True\n",
      "Excepted- search failed for omega = 0.8045 rad/s.\n",
      "What ever error this is, please put into har_bal\n",
      "               after the excepts (2 of them)\n",
      "True\n",
      "Excepted- search failed for omega = 2.9759 rad/s.\n",
      "What ever error this is, please put into har_bal\n",
      "               after the excepts (2 of them)\n",
      "True\n",
      "Excepted- search failed for omega = 2.9904 rad/s.\n",
      "What ever error this is, please put into har_bal\n",
      "               after the excepts (2 of them)\n",
      "True\n",
      "Excepted- search failed for omega = 3.0050 rad/s.\n",
      "What ever error this is, please put into har_bal\n",
      "               after the excepts (2 of them)\n",
      "True\n",
      "[[ 0.105              nan]\n",
      " [ 0.11957286         nan]\n",
      " [ 0.13414573         nan]\n",
      " [ 0.14871859         nan]\n",
      " [ 0.16329146         nan]\n",
      " [ 0.17786432         nan]\n",
      " [ 0.19243719         nan]\n",
      " [ 0.20701005         nan]\n",
      " [ 0.22158291         nan]\n",
      " [ 0.23615578         nan]\n",
      " [ 0.25072864         nan]\n",
      " [ 0.26530151         nan]\n",
      " [ 0.27987437         nan]\n",
      " [ 0.29444724         nan]\n",
      " [ 0.3090201          nan]\n",
      " [ 0.32359296         nan]\n",
      " [ 0.33816583         nan]\n",
      " [ 0.35273869         nan]\n",
      " [ 0.36731156         nan]\n",
      " [ 0.38188442         nan]\n",
      " [ 0.39645729         nan]\n",
      " [ 0.41103015         nan]\n",
      " [ 0.42560302         nan]\n",
      " [ 0.44017588         nan]\n",
      " [ 0.45474874         nan]\n",
      " [ 0.46932161         nan]\n",
      " [ 0.48389447         nan]\n",
      " [ 0.49846734         nan]\n",
      " [ 0.5130402          nan]\n",
      " [ 0.52761307         nan]\n",
      " [ 0.54218593         nan]\n",
      " [ 0.55675879         nan]\n",
      " [ 0.57133166         nan]\n",
      " [ 0.58590452         nan]\n",
      " [ 0.60047739         nan]\n",
      " [ 0.61505025         nan]\n",
      " [ 0.62962312         nan]\n",
      " [ 0.64419598         nan]\n",
      " [ 0.65876884         nan]\n",
      " [ 0.67334171         nan]\n",
      " [ 0.68791457         nan]\n",
      " [ 0.70248744         nan]\n",
      " [ 0.7170603          nan]\n",
      " [ 0.73163317         nan]\n",
      " [ 0.74620603         nan]\n",
      " [ 0.76077889         nan]\n",
      " [ 0.77535176         nan]\n",
      " [ 0.78992462         nan]\n",
      " [ 0.80449749         nan]\n",
      " [ 0.81907035  2.62533157]\n",
      " [ 0.83364322  2.76029614]\n",
      " [ 0.84821608  2.90689245]\n",
      " [ 0.86278894  3.06564032]\n",
      " [ 0.87736181  3.23686365]\n",
      " [ 0.89193467  3.42062599]\n",
      " [ 0.90650754  3.61668661]\n",
      " [ 0.9210804   3.82448198]\n",
      " [ 0.93565327  4.04314047]\n",
      " [ 0.95022613  4.27153101]\n",
      " [ 0.96479899  4.50833848]\n",
      " [ 0.97937186  4.75215267]\n",
      " [ 0.99394472  5.0015558 ]\n",
      " [ 1.00851759  5.25519624]\n",
      " [ 1.02309045  5.51184157]\n",
      " [ 1.03766332  5.77040958]\n",
      " [ 1.05223618  6.02998002]\n",
      " [ 1.06680905  6.28979196]\n",
      " [ 1.08138191  6.54923173]\n",
      " [ 1.09595477  6.80781592]\n",
      " [ 1.11052764  7.06517264]\n",
      " [ 1.1251005   7.32102307]\n",
      " [ 1.13967337  7.57516457]\n",
      " [ 1.15424623  7.82745589]\n",
      " [ 1.1688191   8.07780457]\n",
      " [ 1.18339196  8.3261565 ]\n",
      " [ 1.19796482  8.5724874 ]\n",
      " [ 1.21253769  8.81679587]\n",
      " [ 1.22711055  9.0590979 ]\n",
      " [ 1.24168342  9.2994225 ]\n",
      " [ 1.25625628  9.53780821]\n",
      " [ 1.27082915  9.77430042]\n",
      " [ 1.28540201 10.00894925]\n",
      " [ 1.29997487 10.24180788]\n",
      " [ 1.31454774 10.4729313 ]\n",
      " [ 1.3291206  10.70237534]\n",
      " [ 1.34369347 10.93019593]\n",
      " [ 1.35826633 11.15644854]\n",
      " [ 1.3728392  11.38111418]\n",
      " [ 1.38741206 11.60438064]\n",
      " [ 1.40198492 11.82623705]\n",
      " [ 1.41655779 12.04673357]\n",
      " [ 1.43113065 12.26591873]\n",
      " [ 1.44570352 12.4838393 ]\n",
      " [ 1.46027638 12.70054034]\n",
      " [ 1.47484925 12.91606516]\n",
      " [ 1.48942211 13.13045536]\n",
      " [ 1.50399497 13.34375084]\n",
      " [ 1.51856784 13.55598988]\n",
      " [ 1.5331407  13.76720913]\n",
      " [ 1.54771357 13.97744372]\n",
      " [ 1.56228643 14.18672731]\n",
      " [ 1.5768593  14.3950921 ]\n",
      " [ 1.59143216 14.60256897]\n",
      " [ 1.60600503 14.80918746]\n",
      " [ 1.62057789 15.01497589]\n",
      " [ 1.63515075 15.21996142]\n",
      " [ 1.64972362 15.42417011]\n",
      " [ 1.66429648 15.62762705]\n",
      " [ 1.67886935 15.83035656]\n",
      " [ 1.69344221 16.03238252]\n",
      " [ 1.70801508 16.23372929]\n",
      " [ 1.72258794 16.43442387]\n",
      " [ 1.7371608  16.63441974]\n",
      " [ 1.75173367 16.83382998]\n",
      " [ 1.76630653 17.03263938]\n",
      " [ 1.7808794  17.23089283]\n",
      " [ 1.79545226 17.42850075]\n",
      " [ 1.81002513 17.62562433]\n",
      " [ 1.82459799 17.8221529 ]\n",
      " [ 1.83917085 18.01819593]\n",
      " [ 1.85374372 18.21374612]\n",
      " [ 1.86831658 18.4087612 ]\n",
      " [ 1.88288945 18.60330092]\n",
      " [ 1.89746231 18.79744056]\n",
      " [ 1.91203518 18.99103279]\n",
      " [ 1.92660804 19.18427165]\n",
      " [ 1.9411809  19.37700725]\n",
      " [ 1.95575377 19.56932889]\n",
      " [ 1.97032663 19.76124915]\n",
      " [ 1.9848995  19.9527751 ]\n",
      " [ 1.99947236 20.14391491]\n",
      " [ 2.01404523 20.33467354]\n",
      " [ 2.02861809 20.52506855]\n",
      " [ 2.04319095 20.71510344]\n",
      " [ 2.05776382 20.90478692]\n",
      " [ 2.07233668 21.09412746]\n",
      " [ 2.08690955 21.28313322]\n",
      " [ 2.10148241 21.47181209]\n",
      " [ 2.11605528 21.6601717 ]\n",
      " [ 2.13062814 21.84821943]\n",
      " [ 2.14520101 22.03596242]\n",
      " [ 2.15977387 22.22340739]\n",
      " [ 2.17434673 22.41056141]\n",
      " [ 2.1889196  22.59743075]\n",
      " [ 2.20349246 22.78402165]\n",
      " [ 2.21806533 22.97034019]\n",
      " [ 2.23263819 23.15639224]\n",
      " [ 2.24721106 23.34218341]\n",
      " [ 2.26178392 23.52771933]\n",
      " [ 2.27635678 23.71300527]\n",
      " [ 2.29092965 23.89804639]\n",
      " [ 2.30550251 24.08284768]\n",
      " [ 2.32007538 24.26741402]\n",
      " [ 2.33464824 24.45175008]\n",
      " [ 2.34922111 24.63586041]\n",
      " [ 2.36379397 24.81974942]\n",
      " [ 2.37836683 25.00342138]\n",
      " [ 2.3929397  25.1868804 ]\n",
      " [ 2.40751256 25.3701305 ]\n",
      " [ 2.42208543 25.55317552]\n",
      " [ 2.43665829 25.73601924]\n",
      " [ 2.45123116 25.91866527]\n",
      " [ 2.46580402 26.10111709]\n",
      " [ 2.48037688 26.2833781 ]\n",
      " [ 2.49494975 26.46545157]\n",
      " [ 2.50952261 26.64734063]\n",
      " [ 2.52409548 26.82904833]\n",
      " [ 2.53866834 27.01057757]\n",
      " [ 2.55324121 27.19193119]\n",
      " [ 2.56781407 27.37311183]\n",
      " [ 2.58238693 27.55412211]\n",
      " [ 2.5969598  27.73496979]\n",
      " [ 2.61153266 27.9156421 ]\n",
      " [ 2.62610553 28.09615638]\n",
      " [ 2.64067839 28.27650963]\n",
      " [ 2.65525126 28.45670002]\n",
      " [ 2.66982412 28.63673625]\n",
      " [ 2.68439698 28.81661413]\n",
      " [ 2.69896985 28.99634014]\n",
      " [ 2.71354271 29.17591096]\n",
      " [ 2.72811558 29.35533023]\n",
      " [ 2.74268844 29.53459868]\n",
      " [ 2.75726131 29.71371689]\n",
      " [ 2.77183417 29.89268432]\n",
      " [ 2.78640704 30.07150277]\n",
      " [ 2.8009799  30.25017034]\n",
      " [ 2.81555276 30.42868635]\n",
      " [ 2.83012563 30.60705024]\n",
      " [ 2.84469849 30.7852594 ]\n",
      " [ 2.85927136 30.96331076]\n",
      " [ 2.87384422 31.14120086]\n",
      " [ 2.88841709 31.31892347]\n",
      " [ 2.90298995 31.49647097]\n",
      " [ 2.91756281 31.67383294]\n",
      " [ 2.93213568 31.85099411]\n",
      " [ 2.94670854 32.02802991]\n",
      " [ 2.96128141 32.20488021]\n",
      " [ 2.97585427         nan]\n",
      " [ 2.99042714         nan]\n",
      " [ 3.005              nan]]\n"
     ]
    },
    {
     "data": {
      "text/plain": [
       "[<matplotlib.lines.Line2D at 0x11a45f710>]"
      ]
     },
     "execution_count": 108,
     "metadata": {},
     "output_type": "execute_result"
    },
    {
     "data": {
      "image/png": "[encoded data removed]",
      "text/plain": [
       "<Figure size 432x288 with 1 Axes>"
      ]
     },
     "metadata": {
      "needs_background": "light"
     },
     "output_type": "display_data"
    }
   ],
   "source": [
    "omega = np.linspace(0.1,3,200)+1/200\n",
    "amp = np.zeros_like(omega)\n",
    "x = np.array([[0,-1,1]])\n",
    "for i, freq in enumerate(omega):\n",
    "    #print(i,freq,x)\n",
    "    try:\n",
    "        t, x, e, amps, phases = ms.hb_freq(duff_osc2, x, omega = freq, num_harmonics = 1)# , callback = resid)\n",
    "        #print(freq, amps, e)\n",
    "        amp[i]=amps[0]\n",
    "    except:\n",
    "        amp[i] = sp.nan\n",
    "print(np.hstack((omega.reshape(-1,1), amp.reshape(-1,1))))\n",
    "plt.plot(omega, amp)"
   ]
  },
  {
   "cell_type": "code",
   "execution_count": 110,
   "metadata": {},
   "outputs": [
    {
     "name": "stdout",
     "output_type": "stream",
     "text": [
      " amps = [6.87938913]\n",
      " x = [[-0.52058566  6.20093581 -5.68035015]]\n",
      " e = [[-3.83538149e-09  1.45558470e-08]]\n",
      " phases = [-0.07574565]\n",
      "Constant term of FFT of signal should be zero:  (1.1102230246251565e-16+0j)\n"
     ]
    },
    {
     "data": {
      "image/png": "[encoded data removed]",
      "text/plain": [
       "<Figure size 432x288 with 1 Axes>"
      ]
     },
     "metadata": {
      "needs_background": "light"
     },
     "output_type": "display_data"
    }
   ],
   "source": [
    "t, x, e, amps, phases = ms.hb_freq(duff_osc2, np.array([[0,1,-1]]), omega = 1.1, num_harmonics=1)\n",
    "\n",
    "print(' amps = {}\\n x = {}\\n e = {}\\n phases = {}'.format(amps, x, e, phases))\n",
    "print('Constant term of FFT of signal should be zero: ', ms.fftp.fft(x)[0,0])\n",
    "time, xc = ms.time_history(t,x)\n",
    "\n",
    "plt.plot(time, xc.T, t, x.T, '*')\n",
    "plt.grid(True)"
   ]
  },
  {
   "cell_type": "code",
   "execution_count": 111,
   "metadata": {},
   "outputs": [
    {
     "data": {
      "text/plain": [
       "array([-0.07574565])"
      ]
     },
     "execution_count": 111,
     "metadata": {},
     "output_type": "execute_result"
    }
   ],
   "source": [
    "phases"
   ]
  },
  {
   "cell_type": "code",
   "execution_count": 112,
   "metadata": {
    "scrolled": true
   },
   "outputs": [
    {
     "name": "stdout",
     "output_type": "stream",
     "text": [
      "Excepted- search failed for omega = 0.1050 rad/s.\n",
      "What ever error this is, please put into har_bal\n",
      "               after the excepts (2 of them)\n",
      "True\n",
      "Excepted- search failed for omega = 0.1376 rad/s.\n",
      "What ever error this is, please put into har_bal\n",
      "               after the excepts (2 of them)\n",
      "True\n",
      "Excepted- search failed for omega = 0.1702 rad/s.\n",
      "What ever error this is, please put into har_bal\n",
      "               after the excepts (2 of them)\n",
      "True\n",
      "Excepted- search failed for omega = 0.2028 rad/s.\n",
      "What ever error this is, please put into har_bal\n",
      "               after the excepts (2 of them)\n",
      "True\n",
      "Excepted- search failed for omega = 0.2353 rad/s.\n",
      "What ever error this is, please put into har_bal\n",
      "               after the excepts (2 of them)\n",
      "True\n",
      "Excepted- search failed for omega = 0.2679 rad/s.\n",
      "What ever error this is, please put into har_bal\n",
      "               after the excepts (2 of them)\n",
      "True\n",
      "Excepted- search failed for omega = 0.3005 rad/s.\n",
      "What ever error this is, please put into har_bal\n",
      "               after the excepts (2 of them)\n",
      "True\n",
      "Excepted- search failed for omega = 0.3331 rad/s.\n",
      "What ever error this is, please put into har_bal\n",
      "               after the excepts (2 of them)\n",
      "True\n",
      "Excepted- search failed for omega = 0.3657 rad/s.\n",
      "What ever error this is, please put into har_bal\n",
      "               after the excepts (2 of them)\n",
      "True\n",
      "Excepted- search failed for omega = 0.3983 rad/s.\n",
      "What ever error this is, please put into har_bal\n",
      "               after the excepts (2 of them)\n",
      "True\n",
      "Excepted- search failed for omega = 0.4308 rad/s.\n",
      "What ever error this is, please put into har_bal\n",
      "               after the excepts (2 of them)\n",
      "True\n",
      "Excepted- search failed for omega = 0.4634 rad/s.\n",
      "What ever error this is, please put into har_bal\n",
      "               after the excepts (2 of them)\n",
      "True\n",
      "Excepted- search failed for omega = 0.4960 rad/s.\n",
      "What ever error this is, please put into har_bal\n",
      "               after the excepts (2 of them)\n",
      "True\n",
      "Excepted- search failed for omega = 0.5286 rad/s.\n",
      "What ever error this is, please put into har_bal\n",
      "               after the excepts (2 of them)\n",
      "True\n",
      "Excepted- search failed for omega = 0.5612 rad/s.\n",
      "What ever error this is, please put into har_bal\n",
      "               after the excepts (2 of them)\n",
      "True\n",
      "Excepted- search failed for omega = 0.5938 rad/s.\n",
      "What ever error this is, please put into har_bal\n",
      "               after the excepts (2 of them)\n",
      "True\n",
      "Excepted- search failed for omega = 0.6263 rad/s.\n",
      "What ever error this is, please put into har_bal\n",
      "               after the excepts (2 of them)\n",
      "True\n",
      "Excepted- search failed for omega = 0.6589 rad/s.\n",
      "What ever error this is, please put into har_bal\n",
      "               after the excepts (2 of them)\n",
      "True\n",
      "Excepted- search failed for omega = 0.6915 rad/s.\n",
      "What ever error this is, please put into har_bal\n",
      "               after the excepts (2 of them)\n",
      "True\n",
      "Excepted- search failed for omega = 0.7241 rad/s.\n",
      "What ever error this is, please put into har_bal\n",
      "               after the excepts (2 of them)\n",
      "True\n",
      "Excepted- search failed for omega = 0.7567 rad/s.\n",
      "What ever error this is, please put into har_bal\n",
      "               after the excepts (2 of them)\n",
      "True\n",
      "Excepted- search failed for omega = 0.7893 rad/s.\n",
      "What ever error this is, please put into har_bal\n",
      "               after the excepts (2 of them)\n",
      "True\n",
      "Excepted- search failed for omega = 2.9724 rad/s.\n",
      "What ever error this is, please put into har_bal\n",
      "               after the excepts (2 of them)\n",
      "True\n",
      "Excepted- search failed for omega = 3.0050 rad/s.\n",
      "What ever error this is, please put into har_bal\n",
      "               after the excepts (2 of them)\n",
      "True\n"
     ]
    },
    {
     "data": {
      "text/plain": [
       "[<matplotlib.lines.Line2D at 0x11a428208>]"
      ]
     },
     "execution_count": 112,
     "metadata": {},
     "output_type": "execute_result"
    },
    {
     "data": {
      "image/png": "[encoded data removed]",
      "text/plain": [
       "<Figure size 432x288 with 1 Axes>"
      ]
     },
     "metadata": {
      "needs_background": "light"
     },
     "output_type": "display_data"
    }
   ],
   "source": [
    "omega = sp.linspace(0.1,3,90)+1/200\n",
    "amp = sp.zeros_like(omega)\n",
    "x = np.array([[0,-1,1]])\n",
    "for i, freq in enumerate(omega):\n",
    "    #print(i,freq,x)\n",
    "    #print(sp.average(x))\n",
    "    x = x-sp.average(x)\n",
    "    try:\n",
    "        t, x, e, amps, phases = ms.hb_freq(duff_osc2, x, freq, num_harmonics=1)#, callback = resid)\n",
    "        amp[i]=amps[0]\n",
    "    except:\n",
    "        amp[i] = sp.nan    \n",
    "plt.plot(omega, amp)"
   ]
  },
  {
   "cell_type": "code",
   "execution_count": 113,
   "metadata": {
    "scrolled": false
   },
   "outputs": [
    {
     "name": "stdout",
     "output_type": "stream",
     "text": [
      "Excepted- search failed for omega = 3.0050 rad/s.\n",
      "What ever error this is, please put into har_bal\n",
      "               after the excepts (2 of them)\n",
      "True\n",
      "Excepted- search failed for omega = 3.0000 rad/s.\n",
      "What ever error this is, please put into har_bal\n",
      "               after the excepts (2 of them)\n",
      "True\n",
      "Excepted- search failed for omega = 2.9950 rad/s.\n",
      "What ever error this is, please put into har_bal\n",
      "               after the excepts (2 of them)\n",
      "True\n",
      "Excepted- search failed for omega = 2.9900 rad/s.\n",
      "What ever error this is, please put into har_bal\n",
      "               after the excepts (2 of them)\n",
      "True\n",
      "Excepted- search failed for omega = 2.9850 rad/s.\n",
      "What ever error this is, please put into har_bal\n",
      "               after the excepts (2 of them)\n",
      "True\n",
      "Excepted- search failed for omega = 2.9800 rad/s.\n",
      "What ever error this is, please put into har_bal\n",
      "               after the excepts (2 of them)\n",
      "True\n",
      "Excepted- search failed for omega = 2.9750 rad/s.\n",
      "What ever error this is, please put into har_bal\n",
      "               after the excepts (2 of them)\n",
      "True\n",
      "Excepted- search failed for omega = 2.9700 rad/s.\n",
      "What ever error this is, please put into har_bal\n",
      "               after the excepts (2 of them)\n",
      "True\n",
      "Excepted- search failed for omega = 2.9650 rad/s.\n",
      "What ever error this is, please put into har_bal\n",
      "               after the excepts (2 of them)\n",
      "True\n",
      "Excepted- search failed for omega = 2.9600 rad/s.\n",
      "What ever error this is, please put into har_bal\n",
      "               after the excepts (2 of them)\n",
      "True\n",
      "Excepted- search failed for omega = 2.9550 rad/s.\n",
      "What ever error this is, please put into har_bal\n",
      "               after the excepts (2 of them)\n",
      "True\n",
      "Excepted- search failed for omega = 2.9500 rad/s.\n",
      "What ever error this is, please put into har_bal\n",
      "               after the excepts (2 of them)\n",
      "True\n",
      "Excepted- search failed for omega = 2.9450 rad/s.\n",
      "What ever error this is, please put into har_bal\n",
      "               after the excepts (2 of them)\n",
      "True\n",
      "Excepted- search failed for omega = 2.9400 rad/s.\n",
      "What ever error this is, please put into har_bal\n",
      "               after the excepts (2 of them)\n",
      "True\n",
      "Excepted- search failed for omega = 2.9350 rad/s.\n",
      "What ever error this is, please put into har_bal\n",
      "               after the excepts (2 of them)\n",
      "True\n",
      "Excepted- search failed for omega = 2.9300 rad/s.\n",
      "What ever error this is, please put into har_bal\n",
      "               after the excepts (2 of them)\n",
      "True\n",
      "Excepted- search failed for omega = 2.9250 rad/s.\n",
      "What ever error this is, please put into har_bal\n",
      "               after the excepts (2 of them)\n",
      "True\n",
      "Excepted- search failed for omega = 2.9200 rad/s.\n",
      "What ever error this is, please put into har_bal\n",
      "               after the excepts (2 of them)\n",
      "True\n",
      "Excepted- search failed for omega = 2.9150 rad/s.\n",
      "What ever error this is, please put into har_bal\n",
      "               after the excepts (2 of them)\n",
      "True\n",
      "Excepted- search failed for omega = 2.9100 rad/s.\n",
      "What ever error this is, please put into har_bal\n",
      "               after the excepts (2 of them)\n",
      "True\n",
      "Excepted- search failed for omega = 2.9050 rad/s.\n",
      "What ever error this is, please put into har_bal\n",
      "               after the excepts (2 of them)\n",
      "True\n",
      "Excepted- search failed for omega = 2.9000 rad/s.\n",
      "What ever error this is, please put into har_bal\n",
      "               after the excepts (2 of them)\n",
      "True\n",
      "Excepted- search failed for omega = 1.1700 rad/s.\n",
      "What ever error this is, please put into har_bal\n",
      "               after the excepts (2 of them)\n",
      "True\n",
      "Excepted- search failed for omega = 1.1650 rad/s.\n",
      "What ever error this is, please put into har_bal\n",
      "               after the excepts (2 of them)\n",
      "True\n",
      "Excepted- search failed for omega = 1.1600 rad/s.\n",
      "What ever error this is, please put into har_bal\n",
      "               after the excepts (2 of them)\n",
      "True\n",
      "Excepted- search failed for omega = 1.1550 rad/s.\n",
      "What ever error this is, please put into har_bal\n",
      "               after the excepts (2 of them)\n",
      "True\n",
      "Excepted- search failed for omega = 1.1500 rad/s.\n",
      "What ever error this is, please put into har_bal\n",
      "               after the excepts (2 of them)\n",
      "True\n",
      "Excepted- search failed for omega = 1.1450 rad/s.\n",
      "What ever error this is, please put into har_bal\n",
      "               after the excepts (2 of them)\n",
      "True\n",
      "Excepted- search failed for omega = 1.1400 rad/s.\n",
      "What ever error this is, please put into har_bal\n",
      "               after the excepts (2 of them)\n",
      "True\n",
      "Excepted- search failed for omega = 1.1350 rad/s.\n",
      "What ever error this is, please put into har_bal\n",
      "               after the excepts (2 of them)\n",
      "True\n",
      "Excepted- search failed for omega = 1.1300 rad/s.\n",
      "What ever error this is, please put into har_bal\n",
      "               after the excepts (2 of them)\n",
      "True\n",
      "Excepted- search failed for omega = 1.1250 rad/s.\n",
      "What ever error this is, please put into har_bal\n",
      "               after the excepts (2 of them)\n",
      "True\n",
      "Excepted- search failed for omega = 1.1200 rad/s.\n",
      "What ever error this is, please put into har_bal\n",
      "               after the excepts (2 of them)\n",
      "True\n",
      "Excepted- search failed for omega = 1.1150 rad/s.\n",
      "What ever error this is, please put into har_bal\n",
      "               after the excepts (2 of them)\n",
      "True\n"
     ]
    },
    {
     "data": {
      "text/plain": [
       "[<matplotlib.lines.Line2D at 0x11a18a278>]"
      ]
     },
     "execution_count": 113,
     "metadata": {},
     "output_type": "execute_result"
    },
    {
     "data": {
      "image/png": "[encoded data removed]",
      "text/plain": [
       "<Figure size 432x288 with 1 Axes>"
      ]
     },
     "metadata": {
      "needs_background": "light"
     },
     "output_type": "display_data"
    }
   ],
   "source": [
    "omegal = sp.arange(3,.03,-1/200)+1/200\n",
    "ampl = sp.zeros_like(omegal)\n",
    "x = np.array([[0,-1,1]])\n",
    "for i, freq in enumerate(omegal):\n",
    "    # Here we try to obtain solutions, but if they don't work, \n",
    "    # we ignore them by inserting `np.nan` values.\n",
    "    x = x-sp.average(x)\n",
    "    try:\n",
    "        t, x, e, amps, phases = ms.hb_freq(duff_osc2, x, freq, num_harmonics=1, f_tol = 1e-6)#, callback = resid)\n",
    "        ampl[i]=amps[0]\n",
    "    except:\n",
    "        ampl[i] = sp.nan\n",
    "plt.plot(omegal, ampl)"
   ]
  },
  {
   "cell_type": "code",
   "execution_count": 114,
   "metadata": {},
   "outputs": [
    {
     "data": {
      "text/plain": [
       "[<matplotlib.lines.Line2D at 0x11a2f3fd0>]"
      ]
     },
     "execution_count": 114,
     "metadata": {},
     "output_type": "execute_result"
    },
    {
     "data": {
      "image/png": "[encoded data removed]",
      "text/plain": [
       "<Figure size 432x288 with 1 Axes>"
      ]
     },
     "metadata": {
      "needs_background": "light"
     },
     "output_type": "display_data"
    }
   ],
   "source": [
    "plt.plot(omegal,ampl)\n",
    "plt.plot(omega,amp)\n",
    "#plt.axis([0,3, 0, 10.5])"
   ]
  },
  {
   "cell_type": "code",
   "execution_count": 115,
   "metadata": {},
   "outputs": [],
   "source": [
    "from scipy.optimize import newton_krylov"
   ]
  },
  {
   "cell_type": "code",
   "execution_count": 116,
   "metadata": {},
   "outputs": [],
   "source": [
    "def duff_amp_resid(a):\n",
    "    return (mu**2+(sigma-3/8*alpha/omega_0*a**2)**2)*a**2-(k**2)/4/omega_0**2"
   ]
  },
  {
   "cell_type": "code",
   "execution_count": 117,
   "metadata": {},
   "outputs": [],
   "source": [
    "mu = 0.05 # damping\n",
    "k = 1 # excitation amplitude\n",
    "sigma = -0.9 #detuning\n",
    "omega_0 = 1 # driving frequency\n",
    "alpha = 0.1 # cubic coefficient"
   ]
  },
  {
   "cell_type": "code",
   "execution_count": 118,
   "metadata": {},
   "outputs": [
    {
     "data": {
      "text/plain": [
       "array(-0.54786912)"
      ]
     },
     "execution_count": 118,
     "metadata": {},
     "output_type": "execute_result"
    }
   ],
   "source": [
    "newton_krylov(duff_amp_resid,-.1)"
   ]
  },
  {
   "cell_type": "code",
   "execution_count": 119,
   "metadata": {},
   "outputs": [
    {
     "data": {
      "text/plain": [
       "[<matplotlib.lines.Line2D at 0x119f66080>]"
      ]
     },
     "execution_count": 119,
     "metadata": {},
     "output_type": "execute_result"
    },
    {
     "data": {
      "image/png": "[encoded data removed]",
      "text/plain": [
       "<Figure size 432x288 with 1 Axes>"
      ]
     },
     "metadata": {
      "needs_background": "light"
     },
     "output_type": "display_data"
    }
   ],
   "source": [
    "sigmas = sp.linspace(-1,3,200)\n",
    "amplitudes = sp.zeros_like(sigmas)\n",
    "x = newton_krylov(duff_amp_resid,1)\n",
    "for i, sigma in enumerate(sigmas):\n",
    "    try:\n",
    "        amplitudes[i] = newton_krylov(duff_amp_resid,x)\n",
    "        x = amplitudes[i]\n",
    "    except:\n",
    "        amplitudes[i] = newton_krylov(duff_amp_resid,0)\n",
    "        x = amplitudes[i]\n",
    "\n",
    "plt.plot(sigmas,amplitudes)"
   ]
  },
  {
   "cell_type": "code",
   "execution_count": 120,
   "metadata": {},
   "outputs": [
    {
     "name": "stderr",
     "output_type": "stream",
     "text": [
      "/Users/jslater/anaconda3/lib/python3.6/site-packages/scipy/optimize/nonlin.py:476: RuntimeWarning: invalid value encountered in double_scalars\n",
      "  and dx_norm/self.x_rtol <= x_norm))\n"
     ]
    },
    {
     "data": {
      "text/plain": [
       "[<matplotlib.lines.Line2D at 0x11a1b4320>]"
      ]
     },
     "execution_count": 120,
     "metadata": {},
     "output_type": "execute_result"
    },
    {
     "data": {
      "image/png": "[encoded data removed]",
      "text/plain": [
       "<Figure size 432x288 with 1 Axes>"
      ]
     },
     "metadata": {
      "needs_background": "light"
     },
     "output_type": "display_data"
    }
   ],
   "source": [
    "sigmas = sp.linspace(-1,3,200)\n",
    "sigmasr = sigmas[::-1]\n",
    "amplitudesr = sp.zeros_like(sigmas)\n",
    "x = newton_krylov(duff_amp_resid,3)\n",
    "for i, sigma in enumerate(sigmasr):\n",
    "    try:\n",
    "        amplitudesr[i] = newton_krylov(duff_amp_resid,x)\n",
    "        x = amplitudesr[i]\n",
    "    except:\n",
    "        amplitudesr[i] = sp.nan#newton_krylov(duff_amp_resid,0)\n",
    "        x = amplitudesr[i]\n",
    "        \n",
    "\n",
    "plt.plot(sigmasr,amplitudesr)"
   ]
  },
  {
   "cell_type": "code",
   "execution_count": 121,
   "metadata": {
    "scrolled": true
   },
   "outputs": [
    {
     "data": {
      "text/plain": [
       "[<matplotlib.lines.Line2D at 0x11a8ed4e0>]"
      ]
     },
     "execution_count": 121,
     "metadata": {},
     "output_type": "execute_result"
    },
    {
     "data": {
      "image/png": "[encoded data removed]",
      "text/plain": [
       "<Figure size 432x288 with 1 Axes>"
      ]
     },
     "metadata": {
      "needs_background": "light"
     },
     "output_type": "display_data"
    }
   ],
   "source": [
    "plt.plot(sigmasr,amplitudesr)\n",
    "plt.plot(sigmas,amplitudes)"
   ]
  },
  {
   "cell_type": "markdown",
   "metadata": {},
   "source": [
    "# Using lambda functions\n",
    "As an aside, we can use a lambda function to solve a simple equation without much hassle. For example, $\\ddot{x} + 0.1\\dot{x}+ x + 0.1 x^3 = \\sin(0.7t)$"
   ]
  },
  {
   "cell_type": "code",
   "execution_count": 122,
   "metadata": {},
   "outputs": [
    {
     "name": "stdout",
     "output_type": "stream",
     "text": [
      "[1.47671412]\n"
     ]
    }
   ],
   "source": [
    "def duff_osc2(x, v, params):\n",
    "    omega = params['omega']\n",
    "    t = params['cur_time']\n",
    "    return np.array([[-x-.1*x**3-.1*v+1*sin(omega*t)]])\n",
    "_,_,_,a,_ = ms.hb_freq(duff_osc2, np.array([[0,1,-1]]), 0.7, num_harmonics=1)\n",
    "print(a)"
   ]
  },
  {
   "cell_type": "code",
   "execution_count": 123,
   "metadata": {},
   "outputs": [
    {
     "data": {
      "text/plain": [
       "array([1.47671412])"
      ]
     },
     "execution_count": 123,
     "metadata": {},
     "output_type": "execute_result"
    }
   ],
   "source": [
    "_,_,_,a,_ = ms.hb_freq(lambda x,v, params:np.array([[-x-.1*x**3-.1*v+1*sin(0.7*params['cur_time'])]]), np.array([[0,1,-1]]), .7, num_harmonics=1)\n",
    "a"
   ]
  },
  {
   "cell_type": "markdown",
   "metadata": {},
   "source": [
    "Two things to note: \n",
    "1. Remember that the lambda function has to return an `n by 1` array. \n",
    "2. Time must be referenced as params['cur_time']"
   ]
  }
 ],
 "metadata": {
  "hide_input": false,
  "kernelspec": {
   "display_name": "Python 3",
   "language": "python",
   "name": "python3"
  },
  "language_info": {
   "codemirror_mode": {
    "name": "ipython",
    "version": 3
   },
   "file_extension": ".py",
   "mimetype": "text/x-python",
   "name": "python",
   "nbconvert_exporter": "python",
   "pygments_lexer": "ipython3",
   "version": "3.6.5"
  },
  "latex_envs": {
   "LaTeX_envs_menu_present": true,
   "autoclose": false,
   "autocomplete": true,
   "bibliofile": "biblio.bib",
   "cite_by": "apalike",
   "current_citInitial": 1,
   "eqLabelWithNumbers": true,
   "eqNumInitial": 1,
   "hotkeys": {
    "equation": "Ctrl-E",
    "itemize": "Ctrl-I"
   },
   "labels_anchors": false,
   "latex_user_defs": false,
   "report_style_numbering": false,
   "user_envs_cfg": false
  },
  "toc": {
   "base_numbering": 1,
   "nav_menu": {},
   "number_sections": true,
   "sideBar": true,
   "skip_h1_title": false,
   "title_cell": "Table of Contents",
   "title_sidebar": "Contents",
   "toc_cell": false,
   "toc_position": {},
   "toc_section_display": "block",
   "toc_window_display": false
  },
  "varInspector": {
   "cols": {
    "lenName": 16,
    "lenType": 16,
    "lenVar": 40
   },
   "kernels_config": {
    "python": {
     "delete_cmd_postfix": "",
     "delete_cmd_prefix": "del ",
     "library": "var_list.py",
     "varRefreshCmd": "print(var_dic_list())"
    },
    "r": {
     "delete_cmd_postfix": ") ",
     "delete_cmd_prefix": "rm(",
     "library": "var_list.r",
     "varRefreshCmd": "cat(var_dic_list()) "
    }
   },
   "types_to_exclude": [
    "module",
    "function",
    "builtin_function_or_method",
    "instance",
    "_Feature"
   ],
   "window_display": false
  }
 },
 "nbformat": 4,
 "nbformat_minor": 2
}
